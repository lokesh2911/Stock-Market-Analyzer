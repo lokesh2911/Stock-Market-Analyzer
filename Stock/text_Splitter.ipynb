{
 "cells": [
  {
   "cell_type": "code",
   "execution_count": 3,
   "id": "f04a8100",
   "metadata": {},
   "outputs": [],
   "source": [
    "from langchain.document_loaders import TextLoader"
   ]
  },
  {
   "cell_type": "code",
   "execution_count": 4,
   "id": "8fba6d40",
   "metadata": {},
   "outputs": [],
   "source": [
    "loader=TextLoader(\"Tata_Motors.txt\")\n",
    "data=loader.load()"
   ]
  },
  {
   "cell_type": "code",
   "execution_count": 5,
   "id": "aac30414",
   "metadata": {},
   "outputs": [
    {
     "data": {
      "text/plain": [
       "[Document(metadata={'source': 'Tata_Motors.txt'}, page_content='Tata Motors\\n\\n\\n\\nTata Motors LimitedHeadquarters in MumbaiFormerlyTata Engineering and Locomotive Company Ltd. (TELCO)Company typePublicTraded asBSE:Â\\xa0500570NSE:Â\\xa0TATAMOTORSBSE SENSEX constituentNSE NIFTY 50 constituentISININ9155A01020IndustryAutomotiveFounded1945; 79Â\\xa0years agoFounderJ. R. D. TataHeadquartersMumbai, Maharashtra, India[1]Area servedWorldwideKey peopleNatarajan Chandrasekaran  (Chairman)P. B. Balaji (CFO)[2]ProductsAutomobilesLuxury vehiclesCommercial vehiclesAutomotive partsPickup trucksSUVsProduction output1.1 million (2021)ServicesAutomotive financeVehicle leasingVehicle serviceRevenue â‚¹443,877 crore (US$53Â\\xa0billion) (2024)[3]Operating income â‚¹28,232 crore (US$3.4Â\\xa0billion) (2024)[3]Net income â‚¹31,806 crore (US$3.8Â\\xa0billion) (2024)[3]Total assets â‚¹370,663 crore (US$44Â\\xa0billion) (2024)[4]Total equity â‚¹93,093 crore (US$11Â\\xa0billion) (2024)[4]Number of employees91,811 (2024)[5]ParentTata GroupSubsidiaries\\nTata Motors Cars\\nJaguar Land Rover\\nTata Daewoo\\nTata Marcopolo\\nTata Technologies\\nTata Hispano\\nTata Hitachi Construction Machinery\\nRatingS&P BB/Stable[6]Websitetatamotors.com\\nTata Motors Limited is an Indian multinational automotive company, headquartered in Mumbai and part of the Tata Group. The company produces cars, trucks, vans, and buses.[7]\\nSubsidiaries include British Jaguar Land Rover and South Korean Tata Daewoo. Tata Motors has joint ventures with Hitachi (Tata Hitachi Construction Machinery) and Stellantis, which makes vehicle parts for Fiat Chrysler and Tata-branded vehicles.\\nTata Motors has auto manufacturing and vehicle plants in Jamshedpur, Pantnagar, Lucknow, Sanand, Dharwad, and Pune in India, as well as in Argentina, South Africa, the United Kingdom, and Thailand. It has research and development centers in Pune, Jamshedpur, Lucknow, Dharwad, India and South Korea, the United Kingdom, and Spain. Tata Motors is listed on the BSE and NSE, and is a constituent of the BSE SENSEX and NIFTY 50 benchmark indices. The company is ranked 265th on the Fortune Global 500 list of the world\\'s biggest corporations as of 2019.[8]\\nOn 17 January 2017, Natarajan Chandrasekaran was appointed chairman of the company Tata Group. Tata Motors increased its UV market share to over 8% in FY2019.[9]\\n\\n\\nHistory[edit]\\nTata Sierra (1991-2000)\\nTata Sumo (1994â€“2019)\\nTata Motors was founded in 1945, as a locomotive manufacturer. Tata Group entered the commercial vehicle sector in 1954 after forming a joint venture with Daimler-Benz of Germany in which Tata developed a manufacturing facility in Jamshedpur for Daimler lorries.[10] By November 1954 Tata and Daimler manufactured their first goods carrier chassis at their Jamshedpur plant with 90-100Â\\xa0hp and capacity of 3-5 tons.[11] After years of dominating the commercial vehicle market in India, Tata Motors entered the passenger vehicle market in 1991 by launching the Tata Sierra, a sport utility vehicle based on the Tata Mobile platform. Tata subsequently launched the Tata Estate (1992; a station wagon design based on the earlier Tata Mobile), the Tata Sumo (1994, a 5-door SUV) and the Tata Safari (1998).[citation needed]\\n\\nTata Indica (first generation)\\nTata launched the Indica in 1998. A newer version of the car, named Indica V2, later appeared. Tata Motors also exported cars to South Africa.[12]\\nIn the 2000s, Tata Motors made a series of acquisitions and partnerships, acquiring Daewoo\\'s South Korea-based truck manufacturing unit,[13] a joint venture with the Brazil-based Marcopolo, Tata Marcopolo Bus,[14] Jaguar Land Rover.,[15][16][17][18] Hispano Carrocera,[19] and an 80% stake in the Italian design and engineering company Trilix.[20]\\nOn 12 October 2021, private equity firm TPG invested $1 billion in Tata Motors\\' electric vehicle subsidiary.[21]\\n\\nOperations[edit]\\nTata Motors has vehicle assembly operations in India, the United Kingdom, South Korea, Thailand, Spain, and South Africa. It plans to establish plants in Turkey, Indonesia, and Eastern Europe.\\n\\nTata Motors Cars[edit]\\n\\nTata Motors Cars is a division of Tata Motors which produces passenger cars under the Tata Motors hood. Tata Motors is among the top five passenger vehicle brands in India with products in the compact, midsize car, and utility vehicle segments.[22] The company\\'s manufacturing base in India is spread across Jamshedpur (Jharkhand), Pune (Maharashtra), Lucknow (Uttar Pradesh), Pantnagar (Uttarakhand), Dharwad (Karnataka) and Sanand (Gujarat). Tata\\'s dealership, sales, service, and spare parts network comprise over 3,500 touchpoints.[22] Tata Motors has more than 250 dealerships in more than 195 cities across 27 states and four Union Territories of India.[23] It has the third-largest sales and service network after Maruti Suzuki and Hyundai.\\nTata also has franchisee/joint venture assembly operations in Kenya, Bangladesh, Ukraine, Russia, and Senegal.[24] Tata has dealerships in 26 countries across 4 continents.[25] Tata is present in many countries, it has managed to create a large consumer base in the Indian subcontinent, namely India, Bangladesh, Bhutan, Sri Lanka and Nepal. Tata is also present in Italy,[26] Spain,[27] Poland,[28] Romania,[29] Turkey,[30] Chile,[31] South Africa,[32] Oman, Kuwait, Qatar, Saudi Arabia, United Arab Emirates, Bahrain, Iraq, Syria and Australia.\\n\\nTata Daewoo[edit]\\n\\nTata LPT Trucks made at overseas plantsTata Daewoo (officially Tata Daewoo Commercial Vehicle Company and formerly Daewoo Commercial Vehicle Company) is a commercial vehicle manufacturer headquartered in Gunsan, Jeollabuk-do South Korea, and a wholly owned subsidiary of Tata Motors. It is the second-largest heavy commercial vehicle manufacturer in South Korea and was acquired by Tata Motors in 2004. The principal reasons behind the acquisition were to reduce Tata\\'s dependence on the Indian commercial vehicle market (which was responsible for around 94% of its sales in the MHCV segment and around 84% in the light commercial vehicle segment) and expand its product portfolio by leveraging on Daewoo\\'s strengths in the heavy-tonnage sector.\\nTata Motors has jointly worked with Tata Daewoo to develop trucks such as Novus and World Truck and buses including GloBus and StarBus. In 2012, Tata began developing a new line to manufacture competitive and fuel-efficient commercial vehicles to face the competition posed by the entry of international brands such as Mercedes-Benz, Volvo, and Navistar into the Indian market.[33]\\n\\nTata Hispano[edit]\\n\\nTata Hispano Motors Carrocera, S.A. was a bus and coach manufacturer based in Zaragoza, Aragon, Spain, and a wholly owned subsidiary of Tata Motors. Tata Hispano has plants in Zaragoza, Spain, and Casablanca, Morocco. Tata Motors first acquired a 21% stake in Hispano Carrocera SA in 2005,[34] and purchased the remaining 79% for an undisclosed sum in 2009, making it a fully owned subsidiary, subsequently renamed Tata Hispano. In 2013, Tata Hispano ceased production at its Zaragoza plant.[35][36]\\n\\nTML Drivelines[edit]\\nTML Drivelines Ltd. is a wholly owned subsidiary of Tata Motors engaged in the manufacture of gearboxes and axles for heavy and medium commercial vehicles. It has production facilities at Jamshedpur and Lucknow.  TML Forge division is also a recent acquisition of TML Drivelines. TML Drivelines was formed through the merger of HV Transmission  and HV Axles.\\n\\nTata Technologies[edit]\\nTata Technologies Limited (TTL) is a 43%-owned subsidiary of Tata Motors which provides design, engineering, and business process outsourcing services to the automotive industry. It is headquartered in Pune\\'s Hinjawadi business district and also has operations in London, Detroit and Thailand. Its clients include Ford, General Motors, Honda, and Toyota.\\nThe British engineering and design services company Incat International, which specialises in engineering and design services and product lifecycle management in the automotive, aerospace, and engineering sectors, is a wholly owned subsidiary of TTL. It was acquired by TTL in August 2005 for â‚¹4 billion.\\nIn 2017, TAL, a subsidiary of Tata Motors, manufactured India\\'s first industrial articulated robot for micro, small, and medium enterprises.[36]\\n\\nEuropean Technical Centre[edit]\\nThe Tata Motors European Technical Centre (TMETC) is an automotive design, engineering, and research company based at WMG, University of Warwick on the campus of the University of Warwick in England. It was established in 2005 and is a wholly owned subsidiary of Tata Motors. It was the joint developer of the World Truck.[37]\\nIn September 2013, it was announced that a new National Automotive Innovation Campus would be built at WMG at Warwick\\'s main campus at a cost of Â£100 million.[38][39] The initiative will be a partnership between Tata Motors, the university, and Jaguar Land Rover, with Â£30 million in funding coming from Tata Motors.[40]\\n\\nSubsidiaries[edit]\\nJaguar Land Rover[edit]\\nRange Rover (L405)\\n\\nLand Rover Defender\\nJaguar Land Rover PLC is a premium British automaker headquartered in Whitley, Coventry, United Kingdom, and has been a wholly owned subsidiary of Tata Motors since June 2008, when it was acquired from Ford Motor Company of USA.[41] Its principal activity is the development, manufacture and sale of Jaguar luxury and sports cars and Land Rover premium four-wheel-drive vehicles.\\nJaguar Land Rover has two design centres and three assembly plants in the United Kingdom. Under Tata ownership, Jaguar Land Rover has launched new vehicles including the Range Rover Evoque, Jaguar F-Type, the Jaguar XE, the Jaguar XJ (X351), the second-generation Range Rover Sport, and Jaguar XF, the fourth-generation Land Rover Discovery, Range Rover Velar  and the Range Rover (L405).\\n\\nLand Rover Discovery Sport\\nJD Power, of the US, rates Land Rover and Jaguar as the two worst brands for initial quality.\\n[42] The Jaguar F-Pace made Consumer Reports February 2019 list of the 10 Least Reliable Cars. The editors cited \"electronics, drive system, power equipment, noises and leaks\" as problematic aspects.[43]\\nThe Jaguar Land Rover subsidiary was struggling by 2019 and Tata Motors wrote down its investment in JLR by $3.9 billion. Much of the financial problem was due to a 50% drop in sales in China during 2019, although the situation was improving. Still, Tata was open to considering a partnership with another company according to a statement in mid-October, as long as the partnership agreement would allow Tata to maintain control of the business. The company ruled out the possibility of a sale of JLR to another entity.[44]\\nIn July 2023, Tata announced its plans to invest Â£4 billion to build an electric car battery factory in the UK, which will be one of the largest of its kind in Europe.[45][46][47] The factory will be the company\\'s first battery production facility outside India.[47] Located in Bridgwater, Somerset, the factory will supply Jaguar Land Rover\\'s future battery electric models, including the Range Rover, Defender, Discovery and Jaguar brands, with the potential to also supply other car manufacturers.[36] Production at the new facility is due to start in 2026.\\n\\nJoint ventures[edit]\\nTata Marcopolo[edit]\\n\\nA Tata Marcopolo bus in use in Chandigarh, India\\nTata Marcopolo is a bus-manufacturing joint venture between Tata Motors (51%) and the Brazil-based Marcopolo S.A. (49%). The joint venture manufactures and assembles fully built buses and coaches targeted at developing mass rapid transportation systems. It uses technology and expertise in chassis and aggregates from Tata Motors, and know-how in processes and systems for bodybuilding and bus body design from Marcopolo. Tata Marcopolo has launched a low-floor city bus which is widely used by transport corporations in many Indian cities. Its manufacturing facility is based in Dharwad, Karnataka State, India and Lucknow, India.\\nTata Motors is expected to buy the 49% stake held by its partner Marcopolo in the bus-making joint venture for â‚¹100 crore by February 2021. The subsidiary will continue with the â€˜Marcopoloâ€™ trademark for a minimum of three years with a non-compete provision in India for a corresponding period.[48]\\n\\nFiat-Tata[edit]\\nFiat-Tata is an India-based joint venture between Tata and Stellantis\\' Fiat which produces Fiat and Tata branded passenger cars, as well as engines and transmissions. Tata Motors has gained access to Fiat\\'s diesel engine and transmission technology through the joint venture.[49]\\nThe two companies formerly also had a distribution joint venture through which Fiat products were sold in India through joint Tata-Fiat dealerships. This distribution arrangement was ended in March 2013; Fiats have since been distributed in India by Fiat Automobiles India Limited, a wholly owned subsidiary of Fiat[50][51] and now Tata Motors.\\n\\nTata Hitachi Construction Machinery[edit]\\n\\nTata Hitachi Construction Machinery is a joint venture between Tata Motors and Hitachi which manufactures excavators and other construction equipment.[citation needed] It was previously known as Telcon Construction Solutions.[citation needed]\\n\\nTata Motors European Technical Centre[edit]\\nThe TATA Motors European Technical Centre is an automotive design, engineering, and research company.[citation needed] Company based at WMG, University of Warwick in the United Kingdom.[citation needed] It was established in 2005 and is wholly owned subsidiary of Tata Motors. It was the joint developer of the World Truck.[citation needed] In September 2013 it was announced that a new National Automotive Innovative Campus would be built at WMG at Warwick\\'s main campus at a cost of 92 million pounds.[52] The initiative will be a partnership between Tata Motors, the university, and Jaguar Land Rover, with the 30 million pounds in funding coming from Tata Motors.[53]\\n\\nHyundai-Tata[edit]\\nTata Motors and Hyundai are in a joint venture to provide  the automatic transmission for Tata Safari & Tata Harrier model.[54]\\n\\nProducts[edit]\\nFor details of Land Rover and Jaguar products, see Jaguar Land Rover.\\n\\nPassenger vehicles[edit]\\n\\nCurrent Models[edit]\\n\\n\\nModel\\n\\nYear of Introduction\\n\\n\\nHatchback\\n\\n\\nTata Tiago\\n\\n2016[55]\\n\\n\\nTata Altroz\\n\\n2020\\n\\n\\nSedan\\n\\n\\nTata Tigor\\n\\n2016\\n\\n\\nSUV/Crossover\\n\\n\\nTata Punch\\n\\n2021\\n\\n\\nTata Nexon\\n\\n2017\\n\\n\\nTata Harrier\\n\\n2018\\n\\n\\nTata Safari\\n\\n2021\\n\\n\\nElectric\\n\\n\\nTata Nexon EV\\n\\n2020\\n\\n\\nTata Tigor EV\\n\\n2021\\n\\n\\nTata Tiago EV\\n\\n2022\\n\\n\\nTata Punch EV\\n\\n2023\\n\\nCommercial vehicles[edit]\\nTata Ace\\nTata Ace Zip\\nTata Ace EV\\nTata Super Ace\\nTata Intra\\nTata Intra V10\\nTata Intra V20\\nTata Intra V30\\nTata Intra V50\\nTata Xenon XT\\nTata Yodha\\nTata Ace Mega\\nTata Iris\\nTata TL/Telcoline/207 Pick-up truck\\nTata 407 Ex and Ex2\\nTata 709 Ex\\nTata 807 (Steel cabin chassis, cowl chassis, medium bus chassis, steel cabin + steel body chassis)\\nTata 809 Ex and Ex2\\nTata 909 Ex and Ex2\\nTata 1210 SE and SFC (Semi Forward)\\nTata 1210 LP (Long Plate)\\nTata 1109 (Intermediate truck/ LCV bus)\\nTata 1512c (Medium bus chassis)\\nTata 1515c/1615 (Medium bus chassis)\\nTata 1612c/1616c/1618c (Heavy bus chassis)\\nTata 1618 (Semilow-floor bus chassis)\\nTata 1623 (Rear-engined low-floor bus chassis)\\nTata 1518C (Medium truck) 10 ton\\nTata 1613/1615c (Medium truck)\\nTata 1616/1618c (Heavy duty truck)\\nTata 2515c/2516c/2518c (Heavy duty 10-wheeler truck)\\nTata Starbus (Branded buses for city, intercity, school bus, and standard passenger transportation)\\nTata Divo (Hispano Divo)\\nTata CityRide (12- to 20-seater buses for intracity use)\\nTata 3015 (Heavy truck)\\nTata 3118 (Heavy truck) (8Ã—2)\\nTata 3516 (Heavy truck)\\nTata 4018 (Heavy truck)\\nTata 4923 (Ultraheavy truck) (6Ã—4)\\nTata Novus\\nTata Prima\\nTata SIGNA series\\nTata Ultra series (ICV Segment)\\nTata Winger - (Maxivan)\\nElectric vehicles[edit]\\nTata Motors has unveiled electric versions of the Tata Indica passenger car powered by TM4 electric motors and inverters,[56] as well as the Tata Ace commercial vehicle, both of which run on lithium batteries which launched in 2022.\\nIn 2008 Tata Motors\\' UK subsidiary, Tata Motors European Technical Centre, bought a 50.3% holding in electric vehicle technology firm MiljÃ¸bil Grenland/Innovasjon of Norway for US$1.93 million, and planned to launch the electric Indica hatchback in Europe the following year.[57][58][59] In September 2010, Tata Motors presented four CNGâ€“Electric Hybrid low-floored Starbuses to the Delhi Transport Corporation, to be used during the 2010 Commonwealth Games. These were the first environmentally friendly buses to be used for public transportation in India.\\nIn December 2019, Tata Motors unveiled the Nexon EV, an SUV with a 30.2KWh lithium-ion battery and a consistent range of 312Â\\xa0km on a single charge. It is also equipped with fast charging technology, which can charge the vehicle from 0% - 80% in 60 minutes.[60] With 525 units of Nexon EV sold in India last month, Tata Nexon EV[61] was the best-selling electric car in the month of April 2021 in India.\\nTata Passenger Electric Mobility is a subsidiary which produces electric cars under the brand name Tata Motors.[62]\\nList of Tata electric vehicles:\\n\\nTata Nexon EV\\nTata Tigor EV\\nTata Altroz EV\\nTata Tiago EV\\nTata Ace EV\\nTata Punch EV[63]\\nElectric Vehicle Concepts[edit]\\nTata Curvv\\nTata Avinya\\nTata EVision\\nHarrier.ev\\nSierra.ev[64]\\nDiscontinued Models[edit]\\nTata Telcoline (1988â€“2010)\\nTata Sierra (1991â€“2003)\\nTata Estate (1992â€“2000)\\nTata Sumo (1994â€“2019)\\nTata Indica (1998â€“2015)\\nTata Spacio (2000-2011)\\nTata Indigo (2002â€“2015)\\nTata Indigo Marina (2006â€“2009)\\nTata Xenon (2007â€“2018)\\nTata Sumo Grande (2008â€“2016)\\nTata Vista (2008â€“2015)\\nTata Nano (2008â€“2018)\\nTata Manza (2011â€“2016)[65]\\nTata Venture (2010â€“2017)\\nTata Aria (2010â€“2017)\\nTata Zest (2014â€“2020)\\nTata Bolt (2014â€“2019)\\nTata Hexa (2017â€“2020)\\nNotable vehicles[edit]\\nTata Nano[edit]\\n\\nTata Nano is often cited as the world\\'s most affordable car\\nThe Nano was launched in 2009 as a city car intended to appeal as an affordable alternative to the section of the Indian populace that is primarily the owner of motorcycles and has not bought their first car. Initially priced at â‚¹100,000 (US$1,500), the vehicle attracted a lot of attention for its relatively low price. However, the Nano was very poorly rated for safety[66][67] and in 2018, Cyrus Mistry, chairman of the Tata Group, called the Tata Nano a failed project, with production ending in May 2018.[68]\\n\\nTata Ace[edit]\\n\\nTata Super Ace\\nTata Ace, India\\'s first indigenously developed sub-one-ton minitruck, was launched in May 2005. The minitruck was a huge success in India with auto analysts claiming that Ace had changed the dynamics of the light commercial vehicle  (LCV) market in the country by creating a new market segment termed the small commercial vehicle  segment. Ace rapidly emerged as the first choice for transporters and single truck owners for city and rural transport.\\nBy October 2005, LCV sales of Tata Motors had grown by 36.6% to 28,537 units due to the rising demand for Ace. The Ace was built with a load body produced by Autoline Industries.[69]\\nBy 2005, Autoline was producing 300 load bodies per day for Tata Motors. Ace is still a top seller for TML with 500,000 units sold by June 2010.[70] In 2011, Tata Motors invested Rs 1000 crore in Dharwad Plant, Karnataka, with the capacity of 90,000 units annually and launched two models of 0.5-T capacity as Tata Ace Zip, Magic Iris.[71] Ace has also been exported to several Asian, European, South American, and African countries and all-electric models are sold through Polaris Industries\\' Global Electric Motorcars division. In Sri Lanka, it is sold through Diesel & Motor Engineering (DIMO) PLC under the name of DIMO Batta.\\n\\nTata Prima[edit]\\n\\nA Tata Prima 4928.S in Assam, India\\nTata Prima is a range of heavy trucks first introduced in 2008 as the company\\'s \\'global\\' truck. Tata Prima was the winner of the \\'Commercial Vehicle of the Year\\' at the Apollo Commercial Vehicles Awards, 2010 and 2012.\\n\\nTata 407[edit]\\n\\nA Tata 407 being used as water truck\\nThe Tata 407 is a light commercial vehicle (LCV) that has sold over 500,000 units since its launch in 1986.[72] In India, this vehicle dominates market share of the LCV category, accounting for close to 75% of LCV sales. The 407 model range includes trucks, tippers, pick-ups and vehicles for agri/food products, construction, light mining and services.[73]\\n\\nTata Harrier[edit]\\n\\nTata Harrier\\nTata Harrier is a 5-seater SUV that rivals the MG Hector and Jeep Compass. This car uses the engine from Fiat which is a 2.0 L-4 cylinder turbocharged diesel motor and transmission from Hyundai which is a 6-speed, available in both manual and automatic. Tata Harrier is derived from the H5X Concept displayed at the 2018 Auto Expo. It was launched on 23 January 2019.[74]\\nThe car is a C-segment crossover SUV based on the OmegaArc platform, an essentially re-engineered version of the Jaguar Land Rover D8 platform.[75] A petrol variant of the Harrier is confirmed to launch in 2022â€“23.[76]\\nTata Harrier is also available in Nepal with the name H5.\\n\\nTata Nexon[edit]\\n\\nTata Nexon\\nThe Tata Nexon is a subcompact crossover SUV produced by Tata Motors since 2017. It is the first crossover SUV from Tata Motors, and occupies the sub-4 metre crossover SUV segment in India.[77] The electric version of the Nexon was revealed on 19 December 2019. The Nexon EV uses components from Tata Motors\\' electric vehicle technology brand Ziptron. The electric motor produces 94.7Â\\xa0kW (127Â\\xa0hp; 129Â\\xa0PS) and 245Â\\xa0Nâ‹…m (181Â\\xa0lbfâ‹…ft) of torque and 0 - 100 under 9.9 seconds. It has a 30.2 kWh battery with an ARAI rated range of up to 312Â\\xa0km.[78]\\nThe battery can be fully charged in under 8 hours using a complimentary AC charger. It can also be charged using a 15-ampere power cable that can be used at any place with the necessary power socket. DC 25Â\\xa0kW fast charging can be used to charge the battery from 0 to 80% in 1 hour.[79]\\n\\nRestructuring[edit]\\nIn March 2024, Tata Motors announced plans to undergo a significant restructuring by splitting into two separate listed entities. This strategic move aims to enhance operational efficiencies and focus on distinct business segments. The demerger is expected to allow each entity to pursue tailored growth strategies and attract specific investor bases. The announcement was well-received by the market, with Tata Motors\\' stock experiencing a notable jump following the news.[80][81][82]\\n\\nSee also[edit]\\nList of companies of India\\nList of largest companies by revenue\\nList of corporations by market capitalisation\\nMake in India\\nForbes Global 2000\\nFortune India 500\\nAutomotive industry in India\\nTata Revotron engine\\nReferences[edit]\\n\\n^ \"Contact Us - Tata Motors Limited\". www.tatamotors.com. 14 October 2015. Archived from the original on 4 May 2019. Retrieved 30 July 2018.\\n\\n^ \"Tata Motors Ltd\". Reuters. Retrieved 19 May 2024.\\n\\n^ Jump up to: a b c \"Tata Motors Ltd. Financial Statements\" (PDF). bseindia.com.\\n\\n^ Jump up to: a b \"Tata Motors Consolidated Balance Sheet, Tata Motors Financial Statement & Accounts\" (PDF). www.bseindia.com.\\n\\n^ \"Tata Motors\" (PDF). Tata Motors. May 2022. Retrieved 1 June 2024. Employees: 50,837\\n\\n^ cite news|url=https://www.business-standard.com/amp/companies/news/s-p-upgrades-tata-motors-long-term-issuer-issue-credit-ratings-to-bb-123042600194_1.html%7Cwebsite=business-standard.com\\n\\n^ \"Financials of Tata Motors Limited\". CNN. Archived from the original on 16 October 2013.\\n\\n^ \"Fortune Global 500 list\". Archived from the original on 7 August 2019. Retrieved 18 October 2019.\\n\\n^ \"Tata Motors Market Share\". Auto Car Professional. Retrieved 2 April 2019.\\n\\n^ \"More Special A Licences Granted | 12th March 1954 | The Commercial Motor Archive\". archive.commercialmotor.com. Retrieved 30 May 2023.\\n\\n^ \"Government Viewâ€¢ On RoadsÂ\\xa0: Big Extension of Construction? | 12th November 1954 | The Commercial Motor Archive\". archive.commercialmotor.com. Retrieved 30 May 2023.\\n\\n^ \"Tata Milestones\". Archived from the original on 6 December 2010. Retrieved 22 March 2009.\\n\\n^ \"Tata Motors completes acquisition of Daewoo Commercial Vehicle Company\". Tata Motors. Archived from the original on 8 February 2010. Retrieved 7 October 2010.\\n\\n^ \"Tata Motors, Brazil co form joint venture\". The Hindu Business Line. Archived from the original on 10 October 2010. Retrieved 7 October 2010.\\n\\n^ \"Ford Motor Company Announces Agreement to Sell Jaguar Land Rover to Tata Motors\" (Press release). Ford Motor Company. 26 March 2008. Archived from the original on 12 June 2008. Retrieved 27 March 2008.\\n\\n^ \"Tata Motors enters into Definitive Agreement with Ford for purchase of Jaguar Land Rover\" (Press release). Tata Motors. 26 March 2008. Archived from the original on 5 December 2010. Retrieved 27 March 2008.\\n\\n^ Lewin, Tony (27 March 2008). \"Classic names are part of Tata deal\". Automotive News. Crain Communications. Archived from the original on 28 March 2008. Retrieved 18 May 2008.\\n\\n^ \"Tata Motors completes acquisition of Jag, Land Rover\". Thomson Reuters. 2 June 2008. Archived from the original on 29 December 2008. Retrieved 2 June 2008.\\n\\n^ \"Tata Motors acquires control of Hispano Carrocera\". Business-Standard. 20 October 2009. Archived from the original on 21 April 2010. Retrieved 20 October 2011.\\n\\n^ \"Tata Motors acquires 80% stake in Italy\\'s Trilix\". Money Control. Archived from the original on 10 October 2010. Retrieved 7 October 2010.\\n\\n^ Barman, Arijit (12 October 2021). \"TPG - Tata Motors: TPG drives into Tata Motors EV business with $1 billion investment\". The Economic Times. Retrieved 13 October 2021.\\n\\n^ Jump up to: a b \"Tata Motors\". Tata Motors. Archived from the original on 11 January 2011. Retrieved 4 June 2009.\\n\\n^ \"Booking Center Locator\". tatanano.inservices.tatamotors.com. Archived from the original on 25 March 2009. Retrieved 15 January 2022.\\n\\n^ \"Tata Motors InternationalÂ\\xa0: CompanyÂ\\xa0: Profile\". Tatacarsworldwide.com. Archived from the original on 4 March 2009. Retrieved 4 June 2009.\\n\\n^ \"Tata Motors InternationalÂ\\xa0: Global Network\". Tatacarsworldwide.com. Archived from the original on 15 July 2009. Retrieved 4 June 2009.\\n\\n^ \"Tata Motors -\". Tata Motors. Archived from the original on 27 May 2017. Retrieved 27 September 2017.\\n\\n^ \"Tata Motors EspaÃ±a. Coches Tata - Coches Nuevos y Nuevas Ofertas de Tata\". Tatamotors.es. Archived from the original on 11 October 2007. Retrieved 28 June 2015.\\n\\n^ \"Start - sklep internetowy Tata Motors POLSKA\". tatamotor.com.pl. Archived from the original on 28 September 2017. Retrieved 27 September 2017.\\n\\n^ \"Davossi\". Davossi.ro. Archived from the original on 1 August 2015. Retrieved 28 June 2015.\\n\\n^ \"Tata TÃ¼rkÄ±ye\". Tata.com.tr. Archived from the original on 12 January 2008. Retrieved 28 June 2015.\\n\\n^ \"Tata Motors\". Tata-motors.cl. Archived from the original on 9 August 2011. Retrieved 28 June 2015.\\n\\n^ \"Tata Homepage - Tata South Africa\". Tata.co.za. Archived from the original on 26 June 2015. Retrieved 28 June 2015.\\n\\n^ \"Tatas readying new line of CVs to take on competition\". 14 July 2012. Archived from the original on 17 July 2012. Retrieved 14 July 2012.\\n\\n^ \"Hispano\". Hispano-net.com. Archived from the original on 28 September 2010. Retrieved 11 October 2010.\\n\\n^ \"Media - Tata Motors Limited\". 10 September 2015. Archived from the original on 28 September 2017. Retrieved 27 September 2017.\\n\\n^ Jump up to: a b c Mondal, Manisha. \"Robotic hand rocks manufacturing cradle\". The Hindu. Retrieved 11 April 2017.\\n\\n^ \"Tata Motors Unveils New Range Of Trucks\". Motorbeam.com. 29 May 2009. Archived from the original on 1 June 2009. Retrieved 4 June 2009.\\n\\n^ \"Â£100m investment boost for Warwick University\". The Independent. 25 September 2013. Archived from the original on 29 September 2013. Retrieved 29 September 2013.\\n\\n^ \"University of Warwick Â£100m car centre \\'will secure jobs\\'\". BBC. 24 September 2013. Archived from the original on 28 September 2013. Retrieved 29 September 2013.\\n\\n^ \"Tata Motors confirms Â£30m investment in UK R&D centre\". The Engineer. 3 December 2013. Archived from the original on 29 November 2014. Retrieved 27 February 2014.\\n\\n^ Rutherford, Mike (29 March 2008). \"Mike Rutherford ponders Tata\\'s takeover of Land Rover and Jaguar\". The Daily Telegraph. Archived from the original on 8 April 2008. Retrieved 30 July 2008.\\n\\n^ McIntyre, Douglas A. (24 June 2019). \"And the Worst New Car Sold in America Isâ€¦\". MSN. Microsoft News. Retrieved 25 June 2019.\\n\\n^ Linkov, Jon; Elek, Steven (18 November 2021). \"10 Least Reliable Cars\". Consumer Reports. Archived from the original on 7 October 2019.\\n\\n^ Trudell, Craig; Coppola, Gabrielle; Kotoky, Anurag (15 October 2019). \"Tata Looks for Jaguar Land Rover Partners, but Rules Out Sale\". Bloomberg. Archived from the original on 17 October 2019.\\n\\n^ \"Tata Group confirms plans to build gigafactory for batteries in the UK\". Sky News. Retrieved 20 July 2023.\\n\\n^ Ralph, Alex (20 July 2023). \"Tata to build Â£4bn gigafactory in Somerset\". The Times. ISSNÂ\\xa00140-0460. Retrieved 20 July 2023.\\n\\n^ Jump up to: a b \"Tata confirms Somerset will host Â£4bn battery factory\". BBC News. 28 February 2024. Retrieved 28 February 2024.\\n\\n^ \"Tata Motors To Buy Remaining 49% Share In Tata Marcopolo Motors For Nearly â‚¹ 100 Crore\". Retrieved 23 December 2020.\\n\\n^ \"Fiat, Tata Motors set up joint venture\". timesofmalta.com. 21 October 2007. Archived from the original on 18 November 2007. Retrieved 1 April 2008.\\n\\n^ \"Fiat to complete split from Tata in sales ops by Mar 2013\". Business Standard. 19 September 2012. Archived from the original on 12 January 2014. Retrieved 12 January 2014.\\n\\n^ \"After split with Tata Motors, Fiat begins its solo India ride\". The Economic Times. 11 April 2013. Archived from the original on 12 January 2014. Retrieved 12 January 2014.\\n\\n^ \"Â£92 million National Automotive Innovation Campus to be built at University of Warwick\". warwick.ac.uk. Retrieved 6 October 2020.\\n\\n^ \"Tata Motors European technical centre demonstrates latest mobility technology on the Tata HEXA\". Automotive World. Archived from the original on 10 January 2019. Retrieved 9 January 2018.\\n\\n^ \"How Good Is All New Tata Safari 2023\". Motorlane. 12 November 2023.\\n\\n^ www.ETAuto.com. \"Tata Tiago to be launched on April 6 - ET Auto\". ETAuto.com. Retrieved 27 February 2024.\\n\\n^ \"Customers\". TM4. Archived from the original on 30 June 2015. Retrieved 28 June 2015.\\n\\n^ \"TMETC acquires 50.3 per cent stake in Norway\\'s Miljo Grenland/Innovasjon; to launch first electric vehicle\". Tata.com. 14 October 2008. Archived from the original on 30 July 2013. Retrieved 2 May 2009.\\n\\n^ \"Tata Motors European Technical Centre\". Tata.com. Archived from the original on 24 January 2009. Retrieved 2 May 2009.\\n\\n^ \"Tata to launch EV next year\". Just-auto.com. 14 October 2008. Archived from the original on 29 March 2009. Retrieved 2 May 2009.\\n\\n^ \"Tata Nexon EV - India\\'s Own Electric Compact SUV Powered by Ziptron\". Tata Nexon EV - India\\'s Own Electric Compact SUV Powered by Ziptron. Retrieved 28 July 2020.\\n\\n^ \"Tata Nexon EV was India\\'s best-selling electric car in April 2021\". www.timesnownews.com. 20 May 2021. Retrieved 25 June 2021.\\n\\n^ \"Archived copy\". Archived from the original on 8 January 2016. Retrieved 28 June 2015.{{cite web}}:  CS1 maint: archived copy as title (link)\\n\\n^ \"Punch.ev\". ev.tatamotors.com. Retrieved 22 January 2024.\\n\\n^ \"TATA Motors EV\". ev.tatamotors.com. Retrieved 22 January 2024.\\n\\n^ \"Tata Manza [2011-2015] - Manza [2011-2015] Price, Specs, Images, Colours\". www.cartrade.com. Retrieved 28 February 2024.\\n\\n^ \"Tata Nano safety under scrutiny after dire crash test results\". Guardian. 31 January 2014. Retrieved 9 September 2017.\\n\\n^ \"Tata Nano falls short of global crash test standards â€“ video\". Guardian. 31 January 2014. Retrieved 9 September 2017.\\n\\n^ \"Air Asia Case Puts Spotlight Once Again on Cyrus Mistry\\'s \\'Legacy Hotspots\\'\". The Wire. Archived from the original on 9 July 2018. Retrieved 5 June 2018.\\n\\n^ \"Autoline - A Stamp of Perfection\". 9 February 2008. Archived from the original on 9 February 2008. Retrieved 27 September 2017.\\n\\n^ \"tatamotors\". Tatamotors. 14 March 2012. Archived from the original on 9 February 2008. Retrieved 8 August 2012.\\n\\n^ \"Autoline\". 9 February 2008. Archived from the original on 9 February 2008. Retrieved 11 October 2010.\\n\\n^ \"TATA Motors Annual Report 2011â€“2012\". Tatamotors.com. Archived from the original on 8 January 2016. Retrieved 28 June 2015.\\n\\n^ \"Tata Light Commercial Vehicles\". Tata Motors.\\n\\n^ \"2019 Tata Harrier launched in India, priced at Rs 12.69 lakh\". Archived from the original on 21 March 2019. Retrieved 21 March 2019.\\n\\n^ \"OMEGA-Arc: What defines Tata Harrier is the platform, here\\'s how it\\'s different\". The Financial Express. 12 December 2020. Retrieved 12 January 2021.\\n\\n^ \"Tata confirms Harrier petrol\". Autocar India. Retrieved 12 January 2021.\\n\\n^ Dhingra, Mayank (21 September 2017). \"Tata Motors launches Nexon compact SUV at Rs 585,000\". Autocar Professional India. Retrieved 5 March 2021.\\n\\n^ \"Tata Nexon EV debuts with 300 km range\". autocarindia.com. Retrieved 8 March 2021.\\n\\n^ \"Tata Nexon EV Review\". news18. 17 January 2021. Retrieved 17 January 2021.\\n\\n^ \"India\\'s Tata Motors jumps on plans to split into two listed firms\". Reuters. 5 March 2024. Retrieved 6 March 2024.\\n\\n^ \"Explained: What Tata Motors\\' demerger plan means for the company and its shareholders\". Indian Express. 5 March 2024. Retrieved 6 March 2024.\\n\\n^ \"Tata Motors stock check: How does the demerger impact its fundamental and technical outlook for long-term\". Livemint. Retrieved 6 March 2024.\\n\\n\\nExternal links[edit]\\n\\n\\nOfficial website\\n\\n\\n\\n\\n\\n\\n\\n\\n')]"
      ]
     },
     "execution_count": 5,
     "metadata": {},
     "output_type": "execute_result"
    }
   ],
   "source": [
    "data"
   ]
  },
  {
   "cell_type": "code",
   "execution_count": 6,
   "id": "5aec64a4",
   "metadata": {},
   "outputs": [
    {
     "data": {
      "text/plain": [
       "list"
      ]
     },
     "execution_count": 6,
     "metadata": {},
     "output_type": "execute_result"
    }
   ],
   "source": [
    "type(data)"
   ]
  },
  {
   "cell_type": "code",
   "execution_count": 7,
   "id": "c61486c4",
   "metadata": {},
   "outputs": [
    {
     "data": {
      "text/plain": [
       "1"
      ]
     },
     "execution_count": 7,
     "metadata": {},
     "output_type": "execute_result"
    }
   ],
   "source": [
    "len(data)"
   ]
  },
  {
   "cell_type": "code",
   "execution_count": 8,
   "id": "c1e1066e",
   "metadata": {},
   "outputs": [
    {
     "data": {
      "text/plain": [
       "Document(metadata={'source': 'Tata_Motors.txt'}, page_content='Tata Motors\\n\\n\\n\\nTata Motors LimitedHeadquarters in MumbaiFormerlyTata Engineering and Locomotive Company Ltd. (TELCO)Company typePublicTraded asBSE:Â\\xa0500570NSE:Â\\xa0TATAMOTORSBSE SENSEX constituentNSE NIFTY 50 constituentISININ9155A01020IndustryAutomotiveFounded1945; 79Â\\xa0years agoFounderJ. R. D. TataHeadquartersMumbai, Maharashtra, India[1]Area servedWorldwideKey peopleNatarajan Chandrasekaran  (Chairman)P. B. Balaji (CFO)[2]ProductsAutomobilesLuxury vehiclesCommercial vehiclesAutomotive partsPickup trucksSUVsProduction output1.1 million (2021)ServicesAutomotive financeVehicle leasingVehicle serviceRevenue â‚¹443,877 crore (US$53Â\\xa0billion) (2024)[3]Operating income â‚¹28,232 crore (US$3.4Â\\xa0billion) (2024)[3]Net income â‚¹31,806 crore (US$3.8Â\\xa0billion) (2024)[3]Total assets â‚¹370,663 crore (US$44Â\\xa0billion) (2024)[4]Total equity â‚¹93,093 crore (US$11Â\\xa0billion) (2024)[4]Number of employees91,811 (2024)[5]ParentTata GroupSubsidiaries\\nTata Motors Cars\\nJaguar Land Rover\\nTata Daewoo\\nTata Marcopolo\\nTata Technologies\\nTata Hispano\\nTata Hitachi Construction Machinery\\nRatingS&P BB/Stable[6]Websitetatamotors.com\\nTata Motors Limited is an Indian multinational automotive company, headquartered in Mumbai and part of the Tata Group. The company produces cars, trucks, vans, and buses.[7]\\nSubsidiaries include British Jaguar Land Rover and South Korean Tata Daewoo. Tata Motors has joint ventures with Hitachi (Tata Hitachi Construction Machinery) and Stellantis, which makes vehicle parts for Fiat Chrysler and Tata-branded vehicles.\\nTata Motors has auto manufacturing and vehicle plants in Jamshedpur, Pantnagar, Lucknow, Sanand, Dharwad, and Pune in India, as well as in Argentina, South Africa, the United Kingdom, and Thailand. It has research and development centers in Pune, Jamshedpur, Lucknow, Dharwad, India and South Korea, the United Kingdom, and Spain. Tata Motors is listed on the BSE and NSE, and is a constituent of the BSE SENSEX and NIFTY 50 benchmark indices. The company is ranked 265th on the Fortune Global 500 list of the world\\'s biggest corporations as of 2019.[8]\\nOn 17 January 2017, Natarajan Chandrasekaran was appointed chairman of the company Tata Group. Tata Motors increased its UV market share to over 8% in FY2019.[9]\\n\\n\\nHistory[edit]\\nTata Sierra (1991-2000)\\nTata Sumo (1994â€“2019)\\nTata Motors was founded in 1945, as a locomotive manufacturer. Tata Group entered the commercial vehicle sector in 1954 after forming a joint venture with Daimler-Benz of Germany in which Tata developed a manufacturing facility in Jamshedpur for Daimler lorries.[10] By November 1954 Tata and Daimler manufactured their first goods carrier chassis at their Jamshedpur plant with 90-100Â\\xa0hp and capacity of 3-5 tons.[11] After years of dominating the commercial vehicle market in India, Tata Motors entered the passenger vehicle market in 1991 by launching the Tata Sierra, a sport utility vehicle based on the Tata Mobile platform. Tata subsequently launched the Tata Estate (1992; a station wagon design based on the earlier Tata Mobile), the Tata Sumo (1994, a 5-door SUV) and the Tata Safari (1998).[citation needed]\\n\\nTata Indica (first generation)\\nTata launched the Indica in 1998. A newer version of the car, named Indica V2, later appeared. Tata Motors also exported cars to South Africa.[12]\\nIn the 2000s, Tata Motors made a series of acquisitions and partnerships, acquiring Daewoo\\'s South Korea-based truck manufacturing unit,[13] a joint venture with the Brazil-based Marcopolo, Tata Marcopolo Bus,[14] Jaguar Land Rover.,[15][16][17][18] Hispano Carrocera,[19] and an 80% stake in the Italian design and engineering company Trilix.[20]\\nOn 12 October 2021, private equity firm TPG invested $1 billion in Tata Motors\\' electric vehicle subsidiary.[21]\\n\\nOperations[edit]\\nTata Motors has vehicle assembly operations in India, the United Kingdom, South Korea, Thailand, Spain, and South Africa. It plans to establish plants in Turkey, Indonesia, and Eastern Europe.\\n\\nTata Motors Cars[edit]\\n\\nTata Motors Cars is a division of Tata Motors which produces passenger cars under the Tata Motors hood. Tata Motors is among the top five passenger vehicle brands in India with products in the compact, midsize car, and utility vehicle segments.[22] The company\\'s manufacturing base in India is spread across Jamshedpur (Jharkhand), Pune (Maharashtra), Lucknow (Uttar Pradesh), Pantnagar (Uttarakhand), Dharwad (Karnataka) and Sanand (Gujarat). Tata\\'s dealership, sales, service, and spare parts network comprise over 3,500 touchpoints.[22] Tata Motors has more than 250 dealerships in more than 195 cities across 27 states and four Union Territories of India.[23] It has the third-largest sales and service network after Maruti Suzuki and Hyundai.\\nTata also has franchisee/joint venture assembly operations in Kenya, Bangladesh, Ukraine, Russia, and Senegal.[24] Tata has dealerships in 26 countries across 4 continents.[25] Tata is present in many countries, it has managed to create a large consumer base in the Indian subcontinent, namely India, Bangladesh, Bhutan, Sri Lanka and Nepal. Tata is also present in Italy,[26] Spain,[27] Poland,[28] Romania,[29] Turkey,[30] Chile,[31] South Africa,[32] Oman, Kuwait, Qatar, Saudi Arabia, United Arab Emirates, Bahrain, Iraq, Syria and Australia.\\n\\nTata Daewoo[edit]\\n\\nTata LPT Trucks made at overseas plantsTata Daewoo (officially Tata Daewoo Commercial Vehicle Company and formerly Daewoo Commercial Vehicle Company) is a commercial vehicle manufacturer headquartered in Gunsan, Jeollabuk-do South Korea, and a wholly owned subsidiary of Tata Motors. It is the second-largest heavy commercial vehicle manufacturer in South Korea and was acquired by Tata Motors in 2004. The principal reasons behind the acquisition were to reduce Tata\\'s dependence on the Indian commercial vehicle market (which was responsible for around 94% of its sales in the MHCV segment and around 84% in the light commercial vehicle segment) and expand its product portfolio by leveraging on Daewoo\\'s strengths in the heavy-tonnage sector.\\nTata Motors has jointly worked with Tata Daewoo to develop trucks such as Novus and World Truck and buses including GloBus and StarBus. In 2012, Tata began developing a new line to manufacture competitive and fuel-efficient commercial vehicles to face the competition posed by the entry of international brands such as Mercedes-Benz, Volvo, and Navistar into the Indian market.[33]\\n\\nTata Hispano[edit]\\n\\nTata Hispano Motors Carrocera, S.A. was a bus and coach manufacturer based in Zaragoza, Aragon, Spain, and a wholly owned subsidiary of Tata Motors. Tata Hispano has plants in Zaragoza, Spain, and Casablanca, Morocco. Tata Motors first acquired a 21% stake in Hispano Carrocera SA in 2005,[34] and purchased the remaining 79% for an undisclosed sum in 2009, making it a fully owned subsidiary, subsequently renamed Tata Hispano. In 2013, Tata Hispano ceased production at its Zaragoza plant.[35][36]\\n\\nTML Drivelines[edit]\\nTML Drivelines Ltd. is a wholly owned subsidiary of Tata Motors engaged in the manufacture of gearboxes and axles for heavy and medium commercial vehicles. It has production facilities at Jamshedpur and Lucknow.  TML Forge division is also a recent acquisition of TML Drivelines. TML Drivelines was formed through the merger of HV Transmission  and HV Axles.\\n\\nTata Technologies[edit]\\nTata Technologies Limited (TTL) is a 43%-owned subsidiary of Tata Motors which provides design, engineering, and business process outsourcing services to the automotive industry. It is headquartered in Pune\\'s Hinjawadi business district and also has operations in London, Detroit and Thailand. Its clients include Ford, General Motors, Honda, and Toyota.\\nThe British engineering and design services company Incat International, which specialises in engineering and design services and product lifecycle management in the automotive, aerospace, and engineering sectors, is a wholly owned subsidiary of TTL. It was acquired by TTL in August 2005 for â‚¹4 billion.\\nIn 2017, TAL, a subsidiary of Tata Motors, manufactured India\\'s first industrial articulated robot for micro, small, and medium enterprises.[36]\\n\\nEuropean Technical Centre[edit]\\nThe Tata Motors European Technical Centre (TMETC) is an automotive design, engineering, and research company based at WMG, University of Warwick on the campus of the University of Warwick in England. It was established in 2005 and is a wholly owned subsidiary of Tata Motors. It was the joint developer of the World Truck.[37]\\nIn September 2013, it was announced that a new National Automotive Innovation Campus would be built at WMG at Warwick\\'s main campus at a cost of Â£100 million.[38][39] The initiative will be a partnership between Tata Motors, the university, and Jaguar Land Rover, with Â£30 million in funding coming from Tata Motors.[40]\\n\\nSubsidiaries[edit]\\nJaguar Land Rover[edit]\\nRange Rover (L405)\\n\\nLand Rover Defender\\nJaguar Land Rover PLC is a premium British automaker headquartered in Whitley, Coventry, United Kingdom, and has been a wholly owned subsidiary of Tata Motors since June 2008, when it was acquired from Ford Motor Company of USA.[41] Its principal activity is the development, manufacture and sale of Jaguar luxury and sports cars and Land Rover premium four-wheel-drive vehicles.\\nJaguar Land Rover has two design centres and three assembly plants in the United Kingdom. Under Tata ownership, Jaguar Land Rover has launched new vehicles including the Range Rover Evoque, Jaguar F-Type, the Jaguar XE, the Jaguar XJ (X351), the second-generation Range Rover Sport, and Jaguar XF, the fourth-generation Land Rover Discovery, Range Rover Velar  and the Range Rover (L405).\\n\\nLand Rover Discovery Sport\\nJD Power, of the US, rates Land Rover and Jaguar as the two worst brands for initial quality.\\n[42] The Jaguar F-Pace made Consumer Reports February 2019 list of the 10 Least Reliable Cars. The editors cited \"electronics, drive system, power equipment, noises and leaks\" as problematic aspects.[43]\\nThe Jaguar Land Rover subsidiary was struggling by 2019 and Tata Motors wrote down its investment in JLR by $3.9 billion. Much of the financial problem was due to a 50% drop in sales in China during 2019, although the situation was improving. Still, Tata was open to considering a partnership with another company according to a statement in mid-October, as long as the partnership agreement would allow Tata to maintain control of the business. The company ruled out the possibility of a sale of JLR to another entity.[44]\\nIn July 2023, Tata announced its plans to invest Â£4 billion to build an electric car battery factory in the UK, which will be one of the largest of its kind in Europe.[45][46][47] The factory will be the company\\'s first battery production facility outside India.[47] Located in Bridgwater, Somerset, the factory will supply Jaguar Land Rover\\'s future battery electric models, including the Range Rover, Defender, Discovery and Jaguar brands, with the potential to also supply other car manufacturers.[36] Production at the new facility is due to start in 2026.\\n\\nJoint ventures[edit]\\nTata Marcopolo[edit]\\n\\nA Tata Marcopolo bus in use in Chandigarh, India\\nTata Marcopolo is a bus-manufacturing joint venture between Tata Motors (51%) and the Brazil-based Marcopolo S.A. (49%). The joint venture manufactures and assembles fully built buses and coaches targeted at developing mass rapid transportation systems. It uses technology and expertise in chassis and aggregates from Tata Motors, and know-how in processes and systems for bodybuilding and bus body design from Marcopolo. Tata Marcopolo has launched a low-floor city bus which is widely used by transport corporations in many Indian cities. Its manufacturing facility is based in Dharwad, Karnataka State, India and Lucknow, India.\\nTata Motors is expected to buy the 49% stake held by its partner Marcopolo in the bus-making joint venture for â‚¹100 crore by February 2021. The subsidiary will continue with the â€˜Marcopoloâ€™ trademark for a minimum of three years with a non-compete provision in India for a corresponding period.[48]\\n\\nFiat-Tata[edit]\\nFiat-Tata is an India-based joint venture between Tata and Stellantis\\' Fiat which produces Fiat and Tata branded passenger cars, as well as engines and transmissions. Tata Motors has gained access to Fiat\\'s diesel engine and transmission technology through the joint venture.[49]\\nThe two companies formerly also had a distribution joint venture through which Fiat products were sold in India through joint Tata-Fiat dealerships. This distribution arrangement was ended in March 2013; Fiats have since been distributed in India by Fiat Automobiles India Limited, a wholly owned subsidiary of Fiat[50][51] and now Tata Motors.\\n\\nTata Hitachi Construction Machinery[edit]\\n\\nTata Hitachi Construction Machinery is a joint venture between Tata Motors and Hitachi which manufactures excavators and other construction equipment.[citation needed] It was previously known as Telcon Construction Solutions.[citation needed]\\n\\nTata Motors European Technical Centre[edit]\\nThe TATA Motors European Technical Centre is an automotive design, engineering, and research company.[citation needed] Company based at WMG, University of Warwick in the United Kingdom.[citation needed] It was established in 2005 and is wholly owned subsidiary of Tata Motors. It was the joint developer of the World Truck.[citation needed] In September 2013 it was announced that a new National Automotive Innovative Campus would be built at WMG at Warwick\\'s main campus at a cost of 92 million pounds.[52] The initiative will be a partnership between Tata Motors, the university, and Jaguar Land Rover, with the 30 million pounds in funding coming from Tata Motors.[53]\\n\\nHyundai-Tata[edit]\\nTata Motors and Hyundai are in a joint venture to provide  the automatic transmission for Tata Safari & Tata Harrier model.[54]\\n\\nProducts[edit]\\nFor details of Land Rover and Jaguar products, see Jaguar Land Rover.\\n\\nPassenger vehicles[edit]\\n\\nCurrent Models[edit]\\n\\n\\nModel\\n\\nYear of Introduction\\n\\n\\nHatchback\\n\\n\\nTata Tiago\\n\\n2016[55]\\n\\n\\nTata Altroz\\n\\n2020\\n\\n\\nSedan\\n\\n\\nTata Tigor\\n\\n2016\\n\\n\\nSUV/Crossover\\n\\n\\nTata Punch\\n\\n2021\\n\\n\\nTata Nexon\\n\\n2017\\n\\n\\nTata Harrier\\n\\n2018\\n\\n\\nTata Safari\\n\\n2021\\n\\n\\nElectric\\n\\n\\nTata Nexon EV\\n\\n2020\\n\\n\\nTata Tigor EV\\n\\n2021\\n\\n\\nTata Tiago EV\\n\\n2022\\n\\n\\nTata Punch EV\\n\\n2023\\n\\nCommercial vehicles[edit]\\nTata Ace\\nTata Ace Zip\\nTata Ace EV\\nTata Super Ace\\nTata Intra\\nTata Intra V10\\nTata Intra V20\\nTata Intra V30\\nTata Intra V50\\nTata Xenon XT\\nTata Yodha\\nTata Ace Mega\\nTata Iris\\nTata TL/Telcoline/207 Pick-up truck\\nTata 407 Ex and Ex2\\nTata 709 Ex\\nTata 807 (Steel cabin chassis, cowl chassis, medium bus chassis, steel cabin + steel body chassis)\\nTata 809 Ex and Ex2\\nTata 909 Ex and Ex2\\nTata 1210 SE and SFC (Semi Forward)\\nTata 1210 LP (Long Plate)\\nTata 1109 (Intermediate truck/ LCV bus)\\nTata 1512c (Medium bus chassis)\\nTata 1515c/1615 (Medium bus chassis)\\nTata 1612c/1616c/1618c (Heavy bus chassis)\\nTata 1618 (Semilow-floor bus chassis)\\nTata 1623 (Rear-engined low-floor bus chassis)\\nTata 1518C (Medium truck) 10 ton\\nTata 1613/1615c (Medium truck)\\nTata 1616/1618c (Heavy duty truck)\\nTata 2515c/2516c/2518c (Heavy duty 10-wheeler truck)\\nTata Starbus (Branded buses for city, intercity, school bus, and standard passenger transportation)\\nTata Divo (Hispano Divo)\\nTata CityRide (12- to 20-seater buses for intracity use)\\nTata 3015 (Heavy truck)\\nTata 3118 (Heavy truck) (8Ã—2)\\nTata 3516 (Heavy truck)\\nTata 4018 (Heavy truck)\\nTata 4923 (Ultraheavy truck) (6Ã—4)\\nTata Novus\\nTata Prima\\nTata SIGNA series\\nTata Ultra series (ICV Segment)\\nTata Winger - (Maxivan)\\nElectric vehicles[edit]\\nTata Motors has unveiled electric versions of the Tata Indica passenger car powered by TM4 electric motors and inverters,[56] as well as the Tata Ace commercial vehicle, both of which run on lithium batteries which launched in 2022.\\nIn 2008 Tata Motors\\' UK subsidiary, Tata Motors European Technical Centre, bought a 50.3% holding in electric vehicle technology firm MiljÃ¸bil Grenland/Innovasjon of Norway for US$1.93 million, and planned to launch the electric Indica hatchback in Europe the following year.[57][58][59] In September 2010, Tata Motors presented four CNGâ€“Electric Hybrid low-floored Starbuses to the Delhi Transport Corporation, to be used during the 2010 Commonwealth Games. These were the first environmentally friendly buses to be used for public transportation in India.\\nIn December 2019, Tata Motors unveiled the Nexon EV, an SUV with a 30.2KWh lithium-ion battery and a consistent range of 312Â\\xa0km on a single charge. It is also equipped with fast charging technology, which can charge the vehicle from 0% - 80% in 60 minutes.[60] With 525 units of Nexon EV sold in India last month, Tata Nexon EV[61] was the best-selling electric car in the month of April 2021 in India.\\nTata Passenger Electric Mobility is a subsidiary which produces electric cars under the brand name Tata Motors.[62]\\nList of Tata electric vehicles:\\n\\nTata Nexon EV\\nTata Tigor EV\\nTata Altroz EV\\nTata Tiago EV\\nTata Ace EV\\nTata Punch EV[63]\\nElectric Vehicle Concepts[edit]\\nTata Curvv\\nTata Avinya\\nTata EVision\\nHarrier.ev\\nSierra.ev[64]\\nDiscontinued Models[edit]\\nTata Telcoline (1988â€“2010)\\nTata Sierra (1991â€“2003)\\nTata Estate (1992â€“2000)\\nTata Sumo (1994â€“2019)\\nTata Indica (1998â€“2015)\\nTata Spacio (2000-2011)\\nTata Indigo (2002â€“2015)\\nTata Indigo Marina (2006â€“2009)\\nTata Xenon (2007â€“2018)\\nTata Sumo Grande (2008â€“2016)\\nTata Vista (2008â€“2015)\\nTata Nano (2008â€“2018)\\nTata Manza (2011â€“2016)[65]\\nTata Venture (2010â€“2017)\\nTata Aria (2010â€“2017)\\nTata Zest (2014â€“2020)\\nTata Bolt (2014â€“2019)\\nTata Hexa (2017â€“2020)\\nNotable vehicles[edit]\\nTata Nano[edit]\\n\\nTata Nano is often cited as the world\\'s most affordable car\\nThe Nano was launched in 2009 as a city car intended to appeal as an affordable alternative to the section of the Indian populace that is primarily the owner of motorcycles and has not bought their first car. Initially priced at â‚¹100,000 (US$1,500), the vehicle attracted a lot of attention for its relatively low price. However, the Nano was very poorly rated for safety[66][67] and in 2018, Cyrus Mistry, chairman of the Tata Group, called the Tata Nano a failed project, with production ending in May 2018.[68]\\n\\nTata Ace[edit]\\n\\nTata Super Ace\\nTata Ace, India\\'s first indigenously developed sub-one-ton minitruck, was launched in May 2005. The minitruck was a huge success in India with auto analysts claiming that Ace had changed the dynamics of the light commercial vehicle  (LCV) market in the country by creating a new market segment termed the small commercial vehicle  segment. Ace rapidly emerged as the first choice for transporters and single truck owners for city and rural transport.\\nBy October 2005, LCV sales of Tata Motors had grown by 36.6% to 28,537 units due to the rising demand for Ace. The Ace was built with a load body produced by Autoline Industries.[69]\\nBy 2005, Autoline was producing 300 load bodies per day for Tata Motors. Ace is still a top seller for TML with 500,000 units sold by June 2010.[70] In 2011, Tata Motors invested Rs 1000 crore in Dharwad Plant, Karnataka, with the capacity of 90,000 units annually and launched two models of 0.5-T capacity as Tata Ace Zip, Magic Iris.[71] Ace has also been exported to several Asian, European, South American, and African countries and all-electric models are sold through Polaris Industries\\' Global Electric Motorcars division. In Sri Lanka, it is sold through Diesel & Motor Engineering (DIMO) PLC under the name of DIMO Batta.\\n\\nTata Prima[edit]\\n\\nA Tata Prima 4928.S in Assam, India\\nTata Prima is a range of heavy trucks first introduced in 2008 as the company\\'s \\'global\\' truck. Tata Prima was the winner of the \\'Commercial Vehicle of the Year\\' at the Apollo Commercial Vehicles Awards, 2010 and 2012.\\n\\nTata 407[edit]\\n\\nA Tata 407 being used as water truck\\nThe Tata 407 is a light commercial vehicle (LCV) that has sold over 500,000 units since its launch in 1986.[72] In India, this vehicle dominates market share of the LCV category, accounting for close to 75% of LCV sales. The 407 model range includes trucks, tippers, pick-ups and vehicles for agri/food products, construction, light mining and services.[73]\\n\\nTata Harrier[edit]\\n\\nTata Harrier\\nTata Harrier is a 5-seater SUV that rivals the MG Hector and Jeep Compass. This car uses the engine from Fiat which is a 2.0 L-4 cylinder turbocharged diesel motor and transmission from Hyundai which is a 6-speed, available in both manual and automatic. Tata Harrier is derived from the H5X Concept displayed at the 2018 Auto Expo. It was launched on 23 January 2019.[74]\\nThe car is a C-segment crossover SUV based on the OmegaArc platform, an essentially re-engineered version of the Jaguar Land Rover D8 platform.[75] A petrol variant of the Harrier is confirmed to launch in 2022â€“23.[76]\\nTata Harrier is also available in Nepal with the name H5.\\n\\nTata Nexon[edit]\\n\\nTata Nexon\\nThe Tata Nexon is a subcompact crossover SUV produced by Tata Motors since 2017. It is the first crossover SUV from Tata Motors, and occupies the sub-4 metre crossover SUV segment in India.[77] The electric version of the Nexon was revealed on 19 December 2019. The Nexon EV uses components from Tata Motors\\' electric vehicle technology brand Ziptron. The electric motor produces 94.7Â\\xa0kW (127Â\\xa0hp; 129Â\\xa0PS) and 245Â\\xa0Nâ‹…m (181Â\\xa0lbfâ‹…ft) of torque and 0 - 100 under 9.9 seconds. It has a 30.2 kWh battery with an ARAI rated range of up to 312Â\\xa0km.[78]\\nThe battery can be fully charged in under 8 hours using a complimentary AC charger. It can also be charged using a 15-ampere power cable that can be used at any place with the necessary power socket. DC 25Â\\xa0kW fast charging can be used to charge the battery from 0 to 80% in 1 hour.[79]\\n\\nRestructuring[edit]\\nIn March 2024, Tata Motors announced plans to undergo a significant restructuring by splitting into two separate listed entities. This strategic move aims to enhance operational efficiencies and focus on distinct business segments. The demerger is expected to allow each entity to pursue tailored growth strategies and attract specific investor bases. The announcement was well-received by the market, with Tata Motors\\' stock experiencing a notable jump following the news.[80][81][82]\\n\\nSee also[edit]\\nList of companies of India\\nList of largest companies by revenue\\nList of corporations by market capitalisation\\nMake in India\\nForbes Global 2000\\nFortune India 500\\nAutomotive industry in India\\nTata Revotron engine\\nReferences[edit]\\n\\n^ \"Contact Us - Tata Motors Limited\". www.tatamotors.com. 14 October 2015. Archived from the original on 4 May 2019. Retrieved 30 July 2018.\\n\\n^ \"Tata Motors Ltd\". Reuters. Retrieved 19 May 2024.\\n\\n^ Jump up to: a b c \"Tata Motors Ltd. Financial Statements\" (PDF). bseindia.com.\\n\\n^ Jump up to: a b \"Tata Motors Consolidated Balance Sheet, Tata Motors Financial Statement & Accounts\" (PDF). www.bseindia.com.\\n\\n^ \"Tata Motors\" (PDF). Tata Motors. May 2022. Retrieved 1 June 2024. Employees: 50,837\\n\\n^ cite news|url=https://www.business-standard.com/amp/companies/news/s-p-upgrades-tata-motors-long-term-issuer-issue-credit-ratings-to-bb-123042600194_1.html%7Cwebsite=business-standard.com\\n\\n^ \"Financials of Tata Motors Limited\". CNN. Archived from the original on 16 October 2013.\\n\\n^ \"Fortune Global 500 list\". Archived from the original on 7 August 2019. Retrieved 18 October 2019.\\n\\n^ \"Tata Motors Market Share\". Auto Car Professional. Retrieved 2 April 2019.\\n\\n^ \"More Special A Licences Granted | 12th March 1954 | The Commercial Motor Archive\". archive.commercialmotor.com. Retrieved 30 May 2023.\\n\\n^ \"Government Viewâ€¢ On RoadsÂ\\xa0: Big Extension of Construction? | 12th November 1954 | The Commercial Motor Archive\". archive.commercialmotor.com. Retrieved 30 May 2023.\\n\\n^ \"Tata Milestones\". Archived from the original on 6 December 2010. Retrieved 22 March 2009.\\n\\n^ \"Tata Motors completes acquisition of Daewoo Commercial Vehicle Company\". Tata Motors. Archived from the original on 8 February 2010. Retrieved 7 October 2010.\\n\\n^ \"Tata Motors, Brazil co form joint venture\". The Hindu Business Line. Archived from the original on 10 October 2010. Retrieved 7 October 2010.\\n\\n^ \"Ford Motor Company Announces Agreement to Sell Jaguar Land Rover to Tata Motors\" (Press release). Ford Motor Company. 26 March 2008. Archived from the original on 12 June 2008. Retrieved 27 March 2008.\\n\\n^ \"Tata Motors enters into Definitive Agreement with Ford for purchase of Jaguar Land Rover\" (Press release). Tata Motors. 26 March 2008. Archived from the original on 5 December 2010. Retrieved 27 March 2008.\\n\\n^ Lewin, Tony (27 March 2008). \"Classic names are part of Tata deal\". Automotive News. Crain Communications. Archived from the original on 28 March 2008. Retrieved 18 May 2008.\\n\\n^ \"Tata Motors completes acquisition of Jag, Land Rover\". Thomson Reuters. 2 June 2008. Archived from the original on 29 December 2008. Retrieved 2 June 2008.\\n\\n^ \"Tata Motors acquires control of Hispano Carrocera\". Business-Standard. 20 October 2009. Archived from the original on 21 April 2010. Retrieved 20 October 2011.\\n\\n^ \"Tata Motors acquires 80% stake in Italy\\'s Trilix\". Money Control. Archived from the original on 10 October 2010. Retrieved 7 October 2010.\\n\\n^ Barman, Arijit (12 October 2021). \"TPG - Tata Motors: TPG drives into Tata Motors EV business with $1 billion investment\". The Economic Times. Retrieved 13 October 2021.\\n\\n^ Jump up to: a b \"Tata Motors\". Tata Motors. Archived from the original on 11 January 2011. Retrieved 4 June 2009.\\n\\n^ \"Booking Center Locator\". tatanano.inservices.tatamotors.com. Archived from the original on 25 March 2009. Retrieved 15 January 2022.\\n\\n^ \"Tata Motors InternationalÂ\\xa0: CompanyÂ\\xa0: Profile\". Tatacarsworldwide.com. Archived from the original on 4 March 2009. Retrieved 4 June 2009.\\n\\n^ \"Tata Motors InternationalÂ\\xa0: Global Network\". Tatacarsworldwide.com. Archived from the original on 15 July 2009. Retrieved 4 June 2009.\\n\\n^ \"Tata Motors -\". Tata Motors. Archived from the original on 27 May 2017. Retrieved 27 September 2017.\\n\\n^ \"Tata Motors EspaÃ±a. Coches Tata - Coches Nuevos y Nuevas Ofertas de Tata\". Tatamotors.es. Archived from the original on 11 October 2007. Retrieved 28 June 2015.\\n\\n^ \"Start - sklep internetowy Tata Motors POLSKA\". tatamotor.com.pl. Archived from the original on 28 September 2017. Retrieved 27 September 2017.\\n\\n^ \"Davossi\". Davossi.ro. Archived from the original on 1 August 2015. Retrieved 28 June 2015.\\n\\n^ \"Tata TÃ¼rkÄ±ye\". Tata.com.tr. Archived from the original on 12 January 2008. Retrieved 28 June 2015.\\n\\n^ \"Tata Motors\". Tata-motors.cl. Archived from the original on 9 August 2011. Retrieved 28 June 2015.\\n\\n^ \"Tata Homepage - Tata South Africa\". Tata.co.za. Archived from the original on 26 June 2015. Retrieved 28 June 2015.\\n\\n^ \"Tatas readying new line of CVs to take on competition\". 14 July 2012. Archived from the original on 17 July 2012. Retrieved 14 July 2012.\\n\\n^ \"Hispano\". Hispano-net.com. Archived from the original on 28 September 2010. Retrieved 11 October 2010.\\n\\n^ \"Media - Tata Motors Limited\". 10 September 2015. Archived from the original on 28 September 2017. Retrieved 27 September 2017.\\n\\n^ Jump up to: a b c Mondal, Manisha. \"Robotic hand rocks manufacturing cradle\". The Hindu. Retrieved 11 April 2017.\\n\\n^ \"Tata Motors Unveils New Range Of Trucks\". Motorbeam.com. 29 May 2009. Archived from the original on 1 June 2009. Retrieved 4 June 2009.\\n\\n^ \"Â£100m investment boost for Warwick University\". The Independent. 25 September 2013. Archived from the original on 29 September 2013. Retrieved 29 September 2013.\\n\\n^ \"University of Warwick Â£100m car centre \\'will secure jobs\\'\". BBC. 24 September 2013. Archived from the original on 28 September 2013. Retrieved 29 September 2013.\\n\\n^ \"Tata Motors confirms Â£30m investment in UK R&D centre\". The Engineer. 3 December 2013. Archived from the original on 29 November 2014. Retrieved 27 February 2014.\\n\\n^ Rutherford, Mike (29 March 2008). \"Mike Rutherford ponders Tata\\'s takeover of Land Rover and Jaguar\". The Daily Telegraph. Archived from the original on 8 April 2008. Retrieved 30 July 2008.\\n\\n^ McIntyre, Douglas A. (24 June 2019). \"And the Worst New Car Sold in America Isâ€¦\". MSN. Microsoft News. Retrieved 25 June 2019.\\n\\n^ Linkov, Jon; Elek, Steven (18 November 2021). \"10 Least Reliable Cars\". Consumer Reports. Archived from the original on 7 October 2019.\\n\\n^ Trudell, Craig; Coppola, Gabrielle; Kotoky, Anurag (15 October 2019). \"Tata Looks for Jaguar Land Rover Partners, but Rules Out Sale\". Bloomberg. Archived from the original on 17 October 2019.\\n\\n^ \"Tata Group confirms plans to build gigafactory for batteries in the UK\". Sky News. Retrieved 20 July 2023.\\n\\n^ Ralph, Alex (20 July 2023). \"Tata to build Â£4bn gigafactory in Somerset\". The Times. ISSNÂ\\xa00140-0460. Retrieved 20 July 2023.\\n\\n^ Jump up to: a b \"Tata confirms Somerset will host Â£4bn battery factory\". BBC News. 28 February 2024. Retrieved 28 February 2024.\\n\\n^ \"Tata Motors To Buy Remaining 49% Share In Tata Marcopolo Motors For Nearly â‚¹ 100 Crore\". Retrieved 23 December 2020.\\n\\n^ \"Fiat, Tata Motors set up joint venture\". timesofmalta.com. 21 October 2007. Archived from the original on 18 November 2007. Retrieved 1 April 2008.\\n\\n^ \"Fiat to complete split from Tata in sales ops by Mar 2013\". Business Standard. 19 September 2012. Archived from the original on 12 January 2014. Retrieved 12 January 2014.\\n\\n^ \"After split with Tata Motors, Fiat begins its solo India ride\". The Economic Times. 11 April 2013. Archived from the original on 12 January 2014. Retrieved 12 January 2014.\\n\\n^ \"Â£92 million National Automotive Innovation Campus to be built at University of Warwick\". warwick.ac.uk. Retrieved 6 October 2020.\\n\\n^ \"Tata Motors European technical centre demonstrates latest mobility technology on the Tata HEXA\". Automotive World. Archived from the original on 10 January 2019. Retrieved 9 January 2018.\\n\\n^ \"How Good Is All New Tata Safari 2023\". Motorlane. 12 November 2023.\\n\\n^ www.ETAuto.com. \"Tata Tiago to be launched on April 6 - ET Auto\". ETAuto.com. Retrieved 27 February 2024.\\n\\n^ \"Customers\". TM4. Archived from the original on 30 June 2015. Retrieved 28 June 2015.\\n\\n^ \"TMETC acquires 50.3 per cent stake in Norway\\'s Miljo Grenland/Innovasjon; to launch first electric vehicle\". Tata.com. 14 October 2008. Archived from the original on 30 July 2013. Retrieved 2 May 2009.\\n\\n^ \"Tata Motors European Technical Centre\". Tata.com. Archived from the original on 24 January 2009. Retrieved 2 May 2009.\\n\\n^ \"Tata to launch EV next year\". Just-auto.com. 14 October 2008. Archived from the original on 29 March 2009. Retrieved 2 May 2009.\\n\\n^ \"Tata Nexon EV - India\\'s Own Electric Compact SUV Powered by Ziptron\". Tata Nexon EV - India\\'s Own Electric Compact SUV Powered by Ziptron. Retrieved 28 July 2020.\\n\\n^ \"Tata Nexon EV was India\\'s best-selling electric car in April 2021\". www.timesnownews.com. 20 May 2021. Retrieved 25 June 2021.\\n\\n^ \"Archived copy\". Archived from the original on 8 January 2016. Retrieved 28 June 2015.{{cite web}}:  CS1 maint: archived copy as title (link)\\n\\n^ \"Punch.ev\". ev.tatamotors.com. Retrieved 22 January 2024.\\n\\n^ \"TATA Motors EV\". ev.tatamotors.com. Retrieved 22 January 2024.\\n\\n^ \"Tata Manza [2011-2015] - Manza [2011-2015] Price, Specs, Images, Colours\". www.cartrade.com. Retrieved 28 February 2024.\\n\\n^ \"Tata Nano safety under scrutiny after dire crash test results\". Guardian. 31 January 2014. Retrieved 9 September 2017.\\n\\n^ \"Tata Nano falls short of global crash test standards â€“ video\". Guardian. 31 January 2014. Retrieved 9 September 2017.\\n\\n^ \"Air Asia Case Puts Spotlight Once Again on Cyrus Mistry\\'s \\'Legacy Hotspots\\'\". The Wire. Archived from the original on 9 July 2018. Retrieved 5 June 2018.\\n\\n^ \"Autoline - A Stamp of Perfection\". 9 February 2008. Archived from the original on 9 February 2008. Retrieved 27 September 2017.\\n\\n^ \"tatamotors\". Tatamotors. 14 March 2012. Archived from the original on 9 February 2008. Retrieved 8 August 2012.\\n\\n^ \"Autoline\". 9 February 2008. Archived from the original on 9 February 2008. Retrieved 11 October 2010.\\n\\n^ \"TATA Motors Annual Report 2011â€“2012\". Tatamotors.com. Archived from the original on 8 January 2016. Retrieved 28 June 2015.\\n\\n^ \"Tata Light Commercial Vehicles\". Tata Motors.\\n\\n^ \"2019 Tata Harrier launched in India, priced at Rs 12.69 lakh\". Archived from the original on 21 March 2019. Retrieved 21 March 2019.\\n\\n^ \"OMEGA-Arc: What defines Tata Harrier is the platform, here\\'s how it\\'s different\". The Financial Express. 12 December 2020. Retrieved 12 January 2021.\\n\\n^ \"Tata confirms Harrier petrol\". Autocar India. Retrieved 12 January 2021.\\n\\n^ Dhingra, Mayank (21 September 2017). \"Tata Motors launches Nexon compact SUV at Rs 585,000\". Autocar Professional India. Retrieved 5 March 2021.\\n\\n^ \"Tata Nexon EV debuts with 300 km range\". autocarindia.com. Retrieved 8 March 2021.\\n\\n^ \"Tata Nexon EV Review\". news18. 17 January 2021. Retrieved 17 January 2021.\\n\\n^ \"India\\'s Tata Motors jumps on plans to split into two listed firms\". Reuters. 5 March 2024. Retrieved 6 March 2024.\\n\\n^ \"Explained: What Tata Motors\\' demerger plan means for the company and its shareholders\". Indian Express. 5 March 2024. Retrieved 6 March 2024.\\n\\n^ \"Tata Motors stock check: How does the demerger impact its fundamental and technical outlook for long-term\". Livemint. Retrieved 6 March 2024.\\n\\n\\nExternal links[edit]\\n\\n\\nOfficial website\\n\\n\\n\\n\\n\\n\\n\\n\\n')"
      ]
     },
     "execution_count": 8,
     "metadata": {},
     "output_type": "execute_result"
    }
   ],
   "source": [
    "data[0]"
   ]
  },
  {
   "cell_type": "code",
   "execution_count": 9,
   "id": "98dc7bc9",
   "metadata": {},
   "outputs": [],
   "source": [
    "#there are 2 elements in the list"
   ]
  },
  {
   "cell_type": "code",
   "execution_count": 10,
   "id": "3c6362e6",
   "metadata": {},
   "outputs": [
    {
     "data": {
      "text/plain": [
       "langchain_core.documents.base.Document"
      ]
     },
     "execution_count": 10,
     "metadata": {},
     "output_type": "execute_result"
    }
   ],
   "source": [
    "type(data[0])"
   ]
  },
  {
   "cell_type": "code",
   "execution_count": 11,
   "id": "1ea81d49",
   "metadata": {},
   "outputs": [
    {
     "data": {
      "text/plain": [
       "{'source': 'Tata_Motors.txt'}"
      ]
     },
     "execution_count": 11,
     "metadata": {},
     "output_type": "execute_result"
    }
   ],
   "source": [
    "data[0].metadata"
   ]
  },
  {
   "cell_type": "code",
   "execution_count": 12,
   "id": "07bcb43c",
   "metadata": {},
   "outputs": [
    {
     "data": {
      "text/plain": [
       "'Tata Motors\\n\\n\\n\\nTata Motors LimitedHeadquarters in MumbaiFormerlyTata Engineering and Locomotive Company Ltd. (TELCO)Company typePublicTraded asBSE:Â\\xa0500570NSE:Â\\xa0TATAMOTORSBSE SENSEX constituentNSE NIFTY 50 constituentISININ9155A01020IndustryAutomotiveFounded1945; 79Â\\xa0years agoFounderJ. R. D. TataHeadquartersMumbai, Maharashtra, India[1]Area servedWorldwideKey peopleNatarajan Chandrasekaran  (Chairman)P. B. Balaji (CFO)[2]ProductsAutomobilesLuxury vehiclesCommercial vehiclesAutomotive partsPickup trucksSUVsProduction output1.1 million (2021)ServicesAutomotive financeVehicle leasingVehicle serviceRevenue â‚¹443,877 crore (US$53Â\\xa0billion) (2024)[3]Operating income â‚¹28,232 crore (US$3.4Â\\xa0billion) (2024)[3]Net income â‚¹31,806 crore (US$3.8Â\\xa0billion) (2024)[3]Total assets â‚¹370,663 crore (US$44Â\\xa0billion) (2024)[4]Total equity â‚¹93,093 crore (US$11Â\\xa0billion) (2024)[4]Number of employees91,811 (2024)[5]ParentTata GroupSubsidiaries\\nTata Motors Cars\\nJaguar Land Rover\\nTata Daewoo\\nTata Marcopolo\\nTata Technologies\\nTata Hispano\\nTata Hitachi Construction Machinery\\nRatingS&P BB/Stable[6]Websitetatamotors.com\\nTata Motors Limited is an Indian multinational automotive company, headquartered in Mumbai and part of the Tata Group. The company produces cars, trucks, vans, and buses.[7]\\nSubsidiaries include British Jaguar Land Rover and South Korean Tata Daewoo. Tata Motors has joint ventures with Hitachi (Tata Hitachi Construction Machinery) and Stellantis, which makes vehicle parts for Fiat Chrysler and Tata-branded vehicles.\\nTata Motors has auto manufacturing and vehicle plants in Jamshedpur, Pantnagar, Lucknow, Sanand, Dharwad, and Pune in India, as well as in Argentina, South Africa, the United Kingdom, and Thailand. It has research and development centers in Pune, Jamshedpur, Lucknow, Dharwad, India and South Korea, the United Kingdom, and Spain. Tata Motors is listed on the BSE and NSE, and is a constituent of the BSE SENSEX and NIFTY 50 benchmark indices. The company is ranked 265th on the Fortune Global 500 list of the world\\'s biggest corporations as of 2019.[8]\\nOn 17 January 2017, Natarajan Chandrasekaran was appointed chairman of the company Tata Group. Tata Motors increased its UV market share to over 8% in FY2019.[9]\\n\\n\\nHistory[edit]\\nTata Sierra (1991-2000)\\nTata Sumo (1994â€“2019)\\nTata Motors was founded in 1945, as a locomotive manufacturer. Tata Group entered the commercial vehicle sector in 1954 after forming a joint venture with Daimler-Benz of Germany in which Tata developed a manufacturing facility in Jamshedpur for Daimler lorries.[10] By November 1954 Tata and Daimler manufactured their first goods carrier chassis at their Jamshedpur plant with 90-100Â\\xa0hp and capacity of 3-5 tons.[11] After years of dominating the commercial vehicle market in India, Tata Motors entered the passenger vehicle market in 1991 by launching the Tata Sierra, a sport utility vehicle based on the Tata Mobile platform. Tata subsequently launched the Tata Estate (1992; a station wagon design based on the earlier Tata Mobile), the Tata Sumo (1994, a 5-door SUV) and the Tata Safari (1998).[citation needed]\\n\\nTata Indica (first generation)\\nTata launched the Indica in 1998. A newer version of the car, named Indica V2, later appeared. Tata Motors also exported cars to South Africa.[12]\\nIn the 2000s, Tata Motors made a series of acquisitions and partnerships, acquiring Daewoo\\'s South Korea-based truck manufacturing unit,[13] a joint venture with the Brazil-based Marcopolo, Tata Marcopolo Bus,[14] Jaguar Land Rover.,[15][16][17][18] Hispano Carrocera,[19] and an 80% stake in the Italian design and engineering company Trilix.[20]\\nOn 12 October 2021, private equity firm TPG invested $1 billion in Tata Motors\\' electric vehicle subsidiary.[21]\\n\\nOperations[edit]\\nTata Motors has vehicle assembly operations in India, the United Kingdom, South Korea, Thailand, Spain, and South Africa. It plans to establish plants in Turkey, Indonesia, and Eastern Europe.\\n\\nTata Motors Cars[edit]\\n\\nTata Motors Cars is a division of Tata Motors which produces passenger cars under the Tata Motors hood. Tata Motors is among the top five passenger vehicle brands in India with products in the compact, midsize car, and utility vehicle segments.[22] The company\\'s manufacturing base in India is spread across Jamshedpur (Jharkhand), Pune (Maharashtra), Lucknow (Uttar Pradesh), Pantnagar (Uttarakhand), Dharwad (Karnataka) and Sanand (Gujarat). Tata\\'s dealership, sales, service, and spare parts network comprise over 3,500 touchpoints.[22] Tata Motors has more than 250 dealerships in more than 195 cities across 27 states and four Union Territories of India.[23] It has the third-largest sales and service network after Maruti Suzuki and Hyundai.\\nTata also has franchisee/joint venture assembly operations in Kenya, Bangladesh, Ukraine, Russia, and Senegal.[24] Tata has dealerships in 26 countries across 4 continents.[25] Tata is present in many countries, it has managed to create a large consumer base in the Indian subcontinent, namely India, Bangladesh, Bhutan, Sri Lanka and Nepal. Tata is also present in Italy,[26] Spain,[27] Poland,[28] Romania,[29] Turkey,[30] Chile,[31] South Africa,[32] Oman, Kuwait, Qatar, Saudi Arabia, United Arab Emirates, Bahrain, Iraq, Syria and Australia.\\n\\nTata Daewoo[edit]\\n\\nTata LPT Trucks made at overseas plantsTata Daewoo (officially Tata Daewoo Commercial Vehicle Company and formerly Daewoo Commercial Vehicle Company) is a commercial vehicle manufacturer headquartered in Gunsan, Jeollabuk-do South Korea, and a wholly owned subsidiary of Tata Motors. It is the second-largest heavy commercial vehicle manufacturer in South Korea and was acquired by Tata Motors in 2004. The principal reasons behind the acquisition were to reduce Tata\\'s dependence on the Indian commercial vehicle market (which was responsible for around 94% of its sales in the MHCV segment and around 84% in the light commercial vehicle segment) and expand its product portfolio by leveraging on Daewoo\\'s strengths in the heavy-tonnage sector.\\nTata Motors has jointly worked with Tata Daewoo to develop trucks such as Novus and World Truck and buses including GloBus and StarBus. In 2012, Tata began developing a new line to manufacture competitive and fuel-efficient commercial vehicles to face the competition posed by the entry of international brands such as Mercedes-Benz, Volvo, and Navistar into the Indian market.[33]\\n\\nTata Hispano[edit]\\n\\nTata Hispano Motors Carrocera, S.A. was a bus and coach manufacturer based in Zaragoza, Aragon, Spain, and a wholly owned subsidiary of Tata Motors. Tata Hispano has plants in Zaragoza, Spain, and Casablanca, Morocco. Tata Motors first acquired a 21% stake in Hispano Carrocera SA in 2005,[34] and purchased the remaining 79% for an undisclosed sum in 2009, making it a fully owned subsidiary, subsequently renamed Tata Hispano. In 2013, Tata Hispano ceased production at its Zaragoza plant.[35][36]\\n\\nTML Drivelines[edit]\\nTML Drivelines Ltd. is a wholly owned subsidiary of Tata Motors engaged in the manufacture of gearboxes and axles for heavy and medium commercial vehicles. It has production facilities at Jamshedpur and Lucknow.  TML Forge division is also a recent acquisition of TML Drivelines. TML Drivelines was formed through the merger of HV Transmission  and HV Axles.\\n\\nTata Technologies[edit]\\nTata Technologies Limited (TTL) is a 43%-owned subsidiary of Tata Motors which provides design, engineering, and business process outsourcing services to the automotive industry. It is headquartered in Pune\\'s Hinjawadi business district and also has operations in London, Detroit and Thailand. Its clients include Ford, General Motors, Honda, and Toyota.\\nThe British engineering and design services company Incat International, which specialises in engineering and design services and product lifecycle management in the automotive, aerospace, and engineering sectors, is a wholly owned subsidiary of TTL. It was acquired by TTL in August 2005 for â‚¹4 billion.\\nIn 2017, TAL, a subsidiary of Tata Motors, manufactured India\\'s first industrial articulated robot for micro, small, and medium enterprises.[36]\\n\\nEuropean Technical Centre[edit]\\nThe Tata Motors European Technical Centre (TMETC) is an automotive design, engineering, and research company based at WMG, University of Warwick on the campus of the University of Warwick in England. It was established in 2005 and is a wholly owned subsidiary of Tata Motors. It was the joint developer of the World Truck.[37]\\nIn September 2013, it was announced that a new National Automotive Innovation Campus would be built at WMG at Warwick\\'s main campus at a cost of Â£100 million.[38][39] The initiative will be a partnership between Tata Motors, the university, and Jaguar Land Rover, with Â£30 million in funding coming from Tata Motors.[40]\\n\\nSubsidiaries[edit]\\nJaguar Land Rover[edit]\\nRange Rover (L405)\\n\\nLand Rover Defender\\nJaguar Land Rover PLC is a premium British automaker headquartered in Whitley, Coventry, United Kingdom, and has been a wholly owned subsidiary of Tata Motors since June 2008, when it was acquired from Ford Motor Company of USA.[41] Its principal activity is the development, manufacture and sale of Jaguar luxury and sports cars and Land Rover premium four-wheel-drive vehicles.\\nJaguar Land Rover has two design centres and three assembly plants in the United Kingdom. Under Tata ownership, Jaguar Land Rover has launched new vehicles including the Range Rover Evoque, Jaguar F-Type, the Jaguar XE, the Jaguar XJ (X351), the second-generation Range Rover Sport, and Jaguar XF, the fourth-generation Land Rover Discovery, Range Rover Velar  and the Range Rover (L405).\\n\\nLand Rover Discovery Sport\\nJD Power, of the US, rates Land Rover and Jaguar as the two worst brands for initial quality.\\n[42] The Jaguar F-Pace made Consumer Reports February 2019 list of the 10 Least Reliable Cars. The editors cited \"electronics, drive system, power equipment, noises and leaks\" as problematic aspects.[43]\\nThe Jaguar Land Rover subsidiary was struggling by 2019 and Tata Motors wrote down its investment in JLR by $3.9 billion. Much of the financial problem was due to a 50% drop in sales in China during 2019, although the situation was improving. Still, Tata was open to considering a partnership with another company according to a statement in mid-October, as long as the partnership agreement would allow Tata to maintain control of the business. The company ruled out the possibility of a sale of JLR to another entity.[44]\\nIn July 2023, Tata announced its plans to invest Â£4 billion to build an electric car battery factory in the UK, which will be one of the largest of its kind in Europe.[45][46][47] The factory will be the company\\'s first battery production facility outside India.[47] Located in Bridgwater, Somerset, the factory will supply Jaguar Land Rover\\'s future battery electric models, including the Range Rover, Defender, Discovery and Jaguar brands, with the potential to also supply other car manufacturers.[36] Production at the new facility is due to start in 2026.\\n\\nJoint ventures[edit]\\nTata Marcopolo[edit]\\n\\nA Tata Marcopolo bus in use in Chandigarh, India\\nTata Marcopolo is a bus-manufacturing joint venture between Tata Motors (51%) and the Brazil-based Marcopolo S.A. (49%). The joint venture manufactures and assembles fully built buses and coaches targeted at developing mass rapid transportation systems. It uses technology and expertise in chassis and aggregates from Tata Motors, and know-how in processes and systems for bodybuilding and bus body design from Marcopolo. Tata Marcopolo has launched a low-floor city bus which is widely used by transport corporations in many Indian cities. Its manufacturing facility is based in Dharwad, Karnataka State, India and Lucknow, India.\\nTata Motors is expected to buy the 49% stake held by its partner Marcopolo in the bus-making joint venture for â‚¹100 crore by February 2021. The subsidiary will continue with the â€˜Marcopoloâ€™ trademark for a minimum of three years with a non-compete provision in India for a corresponding period.[48]\\n\\nFiat-Tata[edit]\\nFiat-Tata is an India-based joint venture between Tata and Stellantis\\' Fiat which produces Fiat and Tata branded passenger cars, as well as engines and transmissions. Tata Motors has gained access to Fiat\\'s diesel engine and transmission technology through the joint venture.[49]\\nThe two companies formerly also had a distribution joint venture through which Fiat products were sold in India through joint Tata-Fiat dealerships. This distribution arrangement was ended in March 2013; Fiats have since been distributed in India by Fiat Automobiles India Limited, a wholly owned subsidiary of Fiat[50][51] and now Tata Motors.\\n\\nTata Hitachi Construction Machinery[edit]\\n\\nTata Hitachi Construction Machinery is a joint venture between Tata Motors and Hitachi which manufactures excavators and other construction equipment.[citation needed] It was previously known as Telcon Construction Solutions.[citation needed]\\n\\nTata Motors European Technical Centre[edit]\\nThe TATA Motors European Technical Centre is an automotive design, engineering, and research company.[citation needed] Company based at WMG, University of Warwick in the United Kingdom.[citation needed] It was established in 2005 and is wholly owned subsidiary of Tata Motors. It was the joint developer of the World Truck.[citation needed] In September 2013 it was announced that a new National Automotive Innovative Campus would be built at WMG at Warwick\\'s main campus at a cost of 92 million pounds.[52] The initiative will be a partnership between Tata Motors, the university, and Jaguar Land Rover, with the 30 million pounds in funding coming from Tata Motors.[53]\\n\\nHyundai-Tata[edit]\\nTata Motors and Hyundai are in a joint venture to provide  the automatic transmission for Tata Safari & Tata Harrier model.[54]\\n\\nProducts[edit]\\nFor details of Land Rover and Jaguar products, see Jaguar Land Rover.\\n\\nPassenger vehicles[edit]\\n\\nCurrent Models[edit]\\n\\n\\nModel\\n\\nYear of Introduction\\n\\n\\nHatchback\\n\\n\\nTata Tiago\\n\\n2016[55]\\n\\n\\nTata Altroz\\n\\n2020\\n\\n\\nSedan\\n\\n\\nTata Tigor\\n\\n2016\\n\\n\\nSUV/Crossover\\n\\n\\nTata Punch\\n\\n2021\\n\\n\\nTata Nexon\\n\\n2017\\n\\n\\nTata Harrier\\n\\n2018\\n\\n\\nTata Safari\\n\\n2021\\n\\n\\nElectric\\n\\n\\nTata Nexon EV\\n\\n2020\\n\\n\\nTata Tigor EV\\n\\n2021\\n\\n\\nTata Tiago EV\\n\\n2022\\n\\n\\nTata Punch EV\\n\\n2023\\n\\nCommercial vehicles[edit]\\nTata Ace\\nTata Ace Zip\\nTata Ace EV\\nTata Super Ace\\nTata Intra\\nTata Intra V10\\nTata Intra V20\\nTata Intra V30\\nTata Intra V50\\nTata Xenon XT\\nTata Yodha\\nTata Ace Mega\\nTata Iris\\nTata TL/Telcoline/207 Pick-up truck\\nTata 407 Ex and Ex2\\nTata 709 Ex\\nTata 807 (Steel cabin chassis, cowl chassis, medium bus chassis, steel cabin + steel body chassis)\\nTata 809 Ex and Ex2\\nTata 909 Ex and Ex2\\nTata 1210 SE and SFC (Semi Forward)\\nTata 1210 LP (Long Plate)\\nTata 1109 (Intermediate truck/ LCV bus)\\nTata 1512c (Medium bus chassis)\\nTata 1515c/1615 (Medium bus chassis)\\nTata 1612c/1616c/1618c (Heavy bus chassis)\\nTata 1618 (Semilow-floor bus chassis)\\nTata 1623 (Rear-engined low-floor bus chassis)\\nTata 1518C (Medium truck) 10 ton\\nTata 1613/1615c (Medium truck)\\nTata 1616/1618c (Heavy duty truck)\\nTata 2515c/2516c/2518c (Heavy duty 10-wheeler truck)\\nTata Starbus (Branded buses for city, intercity, school bus, and standard passenger transportation)\\nTata Divo (Hispano Divo)\\nTata CityRide (12- to 20-seater buses for intracity use)\\nTata 3015 (Heavy truck)\\nTata 3118 (Heavy truck) (8Ã—2)\\nTata 3516 (Heavy truck)\\nTata 4018 (Heavy truck)\\nTata 4923 (Ultraheavy truck) (6Ã—4)\\nTata Novus\\nTata Prima\\nTata SIGNA series\\nTata Ultra series (ICV Segment)\\nTata Winger - (Maxivan)\\nElectric vehicles[edit]\\nTata Motors has unveiled electric versions of the Tata Indica passenger car powered by TM4 electric motors and inverters,[56] as well as the Tata Ace commercial vehicle, both of which run on lithium batteries which launched in 2022.\\nIn 2008 Tata Motors\\' UK subsidiary, Tata Motors European Technical Centre, bought a 50.3% holding in electric vehicle technology firm MiljÃ¸bil Grenland/Innovasjon of Norway for US$1.93 million, and planned to launch the electric Indica hatchback in Europe the following year.[57][58][59] In September 2010, Tata Motors presented four CNGâ€“Electric Hybrid low-floored Starbuses to the Delhi Transport Corporation, to be used during the 2010 Commonwealth Games. These were the first environmentally friendly buses to be used for public transportation in India.\\nIn December 2019, Tata Motors unveiled the Nexon EV, an SUV with a 30.2KWh lithium-ion battery and a consistent range of 312Â\\xa0km on a single charge. It is also equipped with fast charging technology, which can charge the vehicle from 0% - 80% in 60 minutes.[60] With 525 units of Nexon EV sold in India last month, Tata Nexon EV[61] was the best-selling electric car in the month of April 2021 in India.\\nTata Passenger Electric Mobility is a subsidiary which produces electric cars under the brand name Tata Motors.[62]\\nList of Tata electric vehicles:\\n\\nTata Nexon EV\\nTata Tigor EV\\nTata Altroz EV\\nTata Tiago EV\\nTata Ace EV\\nTata Punch EV[63]\\nElectric Vehicle Concepts[edit]\\nTata Curvv\\nTata Avinya\\nTata EVision\\nHarrier.ev\\nSierra.ev[64]\\nDiscontinued Models[edit]\\nTata Telcoline (1988â€“2010)\\nTata Sierra (1991â€“2003)\\nTata Estate (1992â€“2000)\\nTata Sumo (1994â€“2019)\\nTata Indica (1998â€“2015)\\nTata Spacio (2000-2011)\\nTata Indigo (2002â€“2015)\\nTata Indigo Marina (2006â€“2009)\\nTata Xenon (2007â€“2018)\\nTata Sumo Grande (2008â€“2016)\\nTata Vista (2008â€“2015)\\nTata Nano (2008â€“2018)\\nTata Manza (2011â€“2016)[65]\\nTata Venture (2010â€“2017)\\nTata Aria (2010â€“2017)\\nTata Zest (2014â€“2020)\\nTata Bolt (2014â€“2019)\\nTata Hexa (2017â€“2020)\\nNotable vehicles[edit]\\nTata Nano[edit]\\n\\nTata Nano is often cited as the world\\'s most affordable car\\nThe Nano was launched in 2009 as a city car intended to appeal as an affordable alternative to the section of the Indian populace that is primarily the owner of motorcycles and has not bought their first car. Initially priced at â‚¹100,000 (US$1,500), the vehicle attracted a lot of attention for its relatively low price. However, the Nano was very poorly rated for safety[66][67] and in 2018, Cyrus Mistry, chairman of the Tata Group, called the Tata Nano a failed project, with production ending in May 2018.[68]\\n\\nTata Ace[edit]\\n\\nTata Super Ace\\nTata Ace, India\\'s first indigenously developed sub-one-ton minitruck, was launched in May 2005. The minitruck was a huge success in India with auto analysts claiming that Ace had changed the dynamics of the light commercial vehicle  (LCV) market in the country by creating a new market segment termed the small commercial vehicle  segment. Ace rapidly emerged as the first choice for transporters and single truck owners for city and rural transport.\\nBy October 2005, LCV sales of Tata Motors had grown by 36.6% to 28,537 units due to the rising demand for Ace. The Ace was built with a load body produced by Autoline Industries.[69]\\nBy 2005, Autoline was producing 300 load bodies per day for Tata Motors. Ace is still a top seller for TML with 500,000 units sold by June 2010.[70] In 2011, Tata Motors invested Rs 1000 crore in Dharwad Plant, Karnataka, with the capacity of 90,000 units annually and launched two models of 0.5-T capacity as Tata Ace Zip, Magic Iris.[71] Ace has also been exported to several Asian, European, South American, and African countries and all-electric models are sold through Polaris Industries\\' Global Electric Motorcars division. In Sri Lanka, it is sold through Diesel & Motor Engineering (DIMO) PLC under the name of DIMO Batta.\\n\\nTata Prima[edit]\\n\\nA Tata Prima 4928.S in Assam, India\\nTata Prima is a range of heavy trucks first introduced in 2008 as the company\\'s \\'global\\' truck. Tata Prima was the winner of the \\'Commercial Vehicle of the Year\\' at the Apollo Commercial Vehicles Awards, 2010 and 2012.\\n\\nTata 407[edit]\\n\\nA Tata 407 being used as water truck\\nThe Tata 407 is a light commercial vehicle (LCV) that has sold over 500,000 units since its launch in 1986.[72] In India, this vehicle dominates market share of the LCV category, accounting for close to 75% of LCV sales. The 407 model range includes trucks, tippers, pick-ups and vehicles for agri/food products, construction, light mining and services.[73]\\n\\nTata Harrier[edit]\\n\\nTata Harrier\\nTata Harrier is a 5-seater SUV that rivals the MG Hector and Jeep Compass. This car uses the engine from Fiat which is a 2.0 L-4 cylinder turbocharged diesel motor and transmission from Hyundai which is a 6-speed, available in both manual and automatic. Tata Harrier is derived from the H5X Concept displayed at the 2018 Auto Expo. It was launched on 23 January 2019.[74]\\nThe car is a C-segment crossover SUV based on the OmegaArc platform, an essentially re-engineered version of the Jaguar Land Rover D8 platform.[75] A petrol variant of the Harrier is confirmed to launch in 2022â€“23.[76]\\nTata Harrier is also available in Nepal with the name H5.\\n\\nTata Nexon[edit]\\n\\nTata Nexon\\nThe Tata Nexon is a subcompact crossover SUV produced by Tata Motors since 2017. It is the first crossover SUV from Tata Motors, and occupies the sub-4 metre crossover SUV segment in India.[77] The electric version of the Nexon was revealed on 19 December 2019. The Nexon EV uses components from Tata Motors\\' electric vehicle technology brand Ziptron. The electric motor produces 94.7Â\\xa0kW (127Â\\xa0hp; 129Â\\xa0PS) and 245Â\\xa0Nâ‹…m (181Â\\xa0lbfâ‹…ft) of torque and 0 - 100 under 9.9 seconds. It has a 30.2 kWh battery with an ARAI rated range of up to 312Â\\xa0km.[78]\\nThe battery can be fully charged in under 8 hours using a complimentary AC charger. It can also be charged using a 15-ampere power cable that can be used at any place with the necessary power socket. DC 25Â\\xa0kW fast charging can be used to charge the battery from 0 to 80% in 1 hour.[79]\\n\\nRestructuring[edit]\\nIn March 2024, Tata Motors announced plans to undergo a significant restructuring by splitting into two separate listed entities. This strategic move aims to enhance operational efficiencies and focus on distinct business segments. The demerger is expected to allow each entity to pursue tailored growth strategies and attract specific investor bases. The announcement was well-received by the market, with Tata Motors\\' stock experiencing a notable jump following the news.[80][81][82]\\n\\nSee also[edit]\\nList of companies of India\\nList of largest companies by revenue\\nList of corporations by market capitalisation\\nMake in India\\nForbes Global 2000\\nFortune India 500\\nAutomotive industry in India\\nTata Revotron engine\\nReferences[edit]\\n\\n^ \"Contact Us - Tata Motors Limited\". www.tatamotors.com. 14 October 2015. Archived from the original on 4 May 2019. Retrieved 30 July 2018.\\n\\n^ \"Tata Motors Ltd\". Reuters. Retrieved 19 May 2024.\\n\\n^ Jump up to: a b c \"Tata Motors Ltd. Financial Statements\" (PDF). bseindia.com.\\n\\n^ Jump up to: a b \"Tata Motors Consolidated Balance Sheet, Tata Motors Financial Statement & Accounts\" (PDF). www.bseindia.com.\\n\\n^ \"Tata Motors\" (PDF). Tata Motors. May 2022. Retrieved 1 June 2024. Employees: 50,837\\n\\n^ cite news|url=https://www.business-standard.com/amp/companies/news/s-p-upgrades-tata-motors-long-term-issuer-issue-credit-ratings-to-bb-123042600194_1.html%7Cwebsite=business-standard.com\\n\\n^ \"Financials of Tata Motors Limited\". CNN. Archived from the original on 16 October 2013.\\n\\n^ \"Fortune Global 500 list\". Archived from the original on 7 August 2019. Retrieved 18 October 2019.\\n\\n^ \"Tata Motors Market Share\". Auto Car Professional. Retrieved 2 April 2019.\\n\\n^ \"More Special A Licences Granted | 12th March 1954 | The Commercial Motor Archive\". archive.commercialmotor.com. Retrieved 30 May 2023.\\n\\n^ \"Government Viewâ€¢ On RoadsÂ\\xa0: Big Extension of Construction? | 12th November 1954 | The Commercial Motor Archive\". archive.commercialmotor.com. Retrieved 30 May 2023.\\n\\n^ \"Tata Milestones\". Archived from the original on 6 December 2010. Retrieved 22 March 2009.\\n\\n^ \"Tata Motors completes acquisition of Daewoo Commercial Vehicle Company\". Tata Motors. Archived from the original on 8 February 2010. Retrieved 7 October 2010.\\n\\n^ \"Tata Motors, Brazil co form joint venture\". The Hindu Business Line. Archived from the original on 10 October 2010. Retrieved 7 October 2010.\\n\\n^ \"Ford Motor Company Announces Agreement to Sell Jaguar Land Rover to Tata Motors\" (Press release). Ford Motor Company. 26 March 2008. Archived from the original on 12 June 2008. Retrieved 27 March 2008.\\n\\n^ \"Tata Motors enters into Definitive Agreement with Ford for purchase of Jaguar Land Rover\" (Press release). Tata Motors. 26 March 2008. Archived from the original on 5 December 2010. Retrieved 27 March 2008.\\n\\n^ Lewin, Tony (27 March 2008). \"Classic names are part of Tata deal\". Automotive News. Crain Communications. Archived from the original on 28 March 2008. Retrieved 18 May 2008.\\n\\n^ \"Tata Motors completes acquisition of Jag, Land Rover\". Thomson Reuters. 2 June 2008. Archived from the original on 29 December 2008. Retrieved 2 June 2008.\\n\\n^ \"Tata Motors acquires control of Hispano Carrocera\". Business-Standard. 20 October 2009. Archived from the original on 21 April 2010. Retrieved 20 October 2011.\\n\\n^ \"Tata Motors acquires 80% stake in Italy\\'s Trilix\". Money Control. Archived from the original on 10 October 2010. Retrieved 7 October 2010.\\n\\n^ Barman, Arijit (12 October 2021). \"TPG - Tata Motors: TPG drives into Tata Motors EV business with $1 billion investment\". The Economic Times. Retrieved 13 October 2021.\\n\\n^ Jump up to: a b \"Tata Motors\". Tata Motors. Archived from the original on 11 January 2011. Retrieved 4 June 2009.\\n\\n^ \"Booking Center Locator\". tatanano.inservices.tatamotors.com. Archived from the original on 25 March 2009. Retrieved 15 January 2022.\\n\\n^ \"Tata Motors InternationalÂ\\xa0: CompanyÂ\\xa0: Profile\". Tatacarsworldwide.com. Archived from the original on 4 March 2009. Retrieved 4 June 2009.\\n\\n^ \"Tata Motors InternationalÂ\\xa0: Global Network\". Tatacarsworldwide.com. Archived from the original on 15 July 2009. Retrieved 4 June 2009.\\n\\n^ \"Tata Motors -\". Tata Motors. Archived from the original on 27 May 2017. Retrieved 27 September 2017.\\n\\n^ \"Tata Motors EspaÃ±a. Coches Tata - Coches Nuevos y Nuevas Ofertas de Tata\". Tatamotors.es. Archived from the original on 11 October 2007. Retrieved 28 June 2015.\\n\\n^ \"Start - sklep internetowy Tata Motors POLSKA\". tatamotor.com.pl. Archived from the original on 28 September 2017. Retrieved 27 September 2017.\\n\\n^ \"Davossi\". Davossi.ro. Archived from the original on 1 August 2015. Retrieved 28 June 2015.\\n\\n^ \"Tata TÃ¼rkÄ±ye\". Tata.com.tr. Archived from the original on 12 January 2008. Retrieved 28 June 2015.\\n\\n^ \"Tata Motors\". Tata-motors.cl. Archived from the original on 9 August 2011. Retrieved 28 June 2015.\\n\\n^ \"Tata Homepage - Tata South Africa\". Tata.co.za. Archived from the original on 26 June 2015. Retrieved 28 June 2015.\\n\\n^ \"Tatas readying new line of CVs to take on competition\". 14 July 2012. Archived from the original on 17 July 2012. Retrieved 14 July 2012.\\n\\n^ \"Hispano\". Hispano-net.com. Archived from the original on 28 September 2010. Retrieved 11 October 2010.\\n\\n^ \"Media - Tata Motors Limited\". 10 September 2015. Archived from the original on 28 September 2017. Retrieved 27 September 2017.\\n\\n^ Jump up to: a b c Mondal, Manisha. \"Robotic hand rocks manufacturing cradle\". The Hindu. Retrieved 11 April 2017.\\n\\n^ \"Tata Motors Unveils New Range Of Trucks\". Motorbeam.com. 29 May 2009. Archived from the original on 1 June 2009. Retrieved 4 June 2009.\\n\\n^ \"Â£100m investment boost for Warwick University\". The Independent. 25 September 2013. Archived from the original on 29 September 2013. Retrieved 29 September 2013.\\n\\n^ \"University of Warwick Â£100m car centre \\'will secure jobs\\'\". BBC. 24 September 2013. Archived from the original on 28 September 2013. Retrieved 29 September 2013.\\n\\n^ \"Tata Motors confirms Â£30m investment in UK R&D centre\". The Engineer. 3 December 2013. Archived from the original on 29 November 2014. Retrieved 27 February 2014.\\n\\n^ Rutherford, Mike (29 March 2008). \"Mike Rutherford ponders Tata\\'s takeover of Land Rover and Jaguar\". The Daily Telegraph. Archived from the original on 8 April 2008. Retrieved 30 July 2008.\\n\\n^ McIntyre, Douglas A. (24 June 2019). \"And the Worst New Car Sold in America Isâ€¦\". MSN. Microsoft News. Retrieved 25 June 2019.\\n\\n^ Linkov, Jon; Elek, Steven (18 November 2021). \"10 Least Reliable Cars\". Consumer Reports. Archived from the original on 7 October 2019.\\n\\n^ Trudell, Craig; Coppola, Gabrielle; Kotoky, Anurag (15 October 2019). \"Tata Looks for Jaguar Land Rover Partners, but Rules Out Sale\". Bloomberg. Archived from the original on 17 October 2019.\\n\\n^ \"Tata Group confirms plans to build gigafactory for batteries in the UK\". Sky News. Retrieved 20 July 2023.\\n\\n^ Ralph, Alex (20 July 2023). \"Tata to build Â£4bn gigafactory in Somerset\". The Times. ISSNÂ\\xa00140-0460. Retrieved 20 July 2023.\\n\\n^ Jump up to: a b \"Tata confirms Somerset will host Â£4bn battery factory\". BBC News. 28 February 2024. Retrieved 28 February 2024.\\n\\n^ \"Tata Motors To Buy Remaining 49% Share In Tata Marcopolo Motors For Nearly â‚¹ 100 Crore\". Retrieved 23 December 2020.\\n\\n^ \"Fiat, Tata Motors set up joint venture\". timesofmalta.com. 21 October 2007. Archived from the original on 18 November 2007. Retrieved 1 April 2008.\\n\\n^ \"Fiat to complete split from Tata in sales ops by Mar 2013\". Business Standard. 19 September 2012. Archived from the original on 12 January 2014. Retrieved 12 January 2014.\\n\\n^ \"After split with Tata Motors, Fiat begins its solo India ride\". The Economic Times. 11 April 2013. Archived from the original on 12 January 2014. Retrieved 12 January 2014.\\n\\n^ \"Â£92 million National Automotive Innovation Campus to be built at University of Warwick\". warwick.ac.uk. Retrieved 6 October 2020.\\n\\n^ \"Tata Motors European technical centre demonstrates latest mobility technology on the Tata HEXA\". Automotive World. Archived from the original on 10 January 2019. Retrieved 9 January 2018.\\n\\n^ \"How Good Is All New Tata Safari 2023\". Motorlane. 12 November 2023.\\n\\n^ www.ETAuto.com. \"Tata Tiago to be launched on April 6 - ET Auto\". ETAuto.com. Retrieved 27 February 2024.\\n\\n^ \"Customers\". TM4. Archived from the original on 30 June 2015. Retrieved 28 June 2015.\\n\\n^ \"TMETC acquires 50.3 per cent stake in Norway\\'s Miljo Grenland/Innovasjon; to launch first electric vehicle\". Tata.com. 14 October 2008. Archived from the original on 30 July 2013. Retrieved 2 May 2009.\\n\\n^ \"Tata Motors European Technical Centre\". Tata.com. Archived from the original on 24 January 2009. Retrieved 2 May 2009.\\n\\n^ \"Tata to launch EV next year\". Just-auto.com. 14 October 2008. Archived from the original on 29 March 2009. Retrieved 2 May 2009.\\n\\n^ \"Tata Nexon EV - India\\'s Own Electric Compact SUV Powered by Ziptron\". Tata Nexon EV - India\\'s Own Electric Compact SUV Powered by Ziptron. Retrieved 28 July 2020.\\n\\n^ \"Tata Nexon EV was India\\'s best-selling electric car in April 2021\". www.timesnownews.com. 20 May 2021. Retrieved 25 June 2021.\\n\\n^ \"Archived copy\". Archived from the original on 8 January 2016. Retrieved 28 June 2015.{{cite web}}:  CS1 maint: archived copy as title (link)\\n\\n^ \"Punch.ev\". ev.tatamotors.com. Retrieved 22 January 2024.\\n\\n^ \"TATA Motors EV\". ev.tatamotors.com. Retrieved 22 January 2024.\\n\\n^ \"Tata Manza [2011-2015] - Manza [2011-2015] Price, Specs, Images, Colours\". www.cartrade.com. Retrieved 28 February 2024.\\n\\n^ \"Tata Nano safety under scrutiny after dire crash test results\". Guardian. 31 January 2014. Retrieved 9 September 2017.\\n\\n^ \"Tata Nano falls short of global crash test standards â€“ video\". Guardian. 31 January 2014. Retrieved 9 September 2017.\\n\\n^ \"Air Asia Case Puts Spotlight Once Again on Cyrus Mistry\\'s \\'Legacy Hotspots\\'\". The Wire. Archived from the original on 9 July 2018. Retrieved 5 June 2018.\\n\\n^ \"Autoline - A Stamp of Perfection\". 9 February 2008. Archived from the original on 9 February 2008. Retrieved 27 September 2017.\\n\\n^ \"tatamotors\". Tatamotors. 14 March 2012. Archived from the original on 9 February 2008. Retrieved 8 August 2012.\\n\\n^ \"Autoline\". 9 February 2008. Archived from the original on 9 February 2008. Retrieved 11 October 2010.\\n\\n^ \"TATA Motors Annual Report 2011â€“2012\". Tatamotors.com. Archived from the original on 8 January 2016. Retrieved 28 June 2015.\\n\\n^ \"Tata Light Commercial Vehicles\". Tata Motors.\\n\\n^ \"2019 Tata Harrier launched in India, priced at Rs 12.69 lakh\". Archived from the original on 21 March 2019. Retrieved 21 March 2019.\\n\\n^ \"OMEGA-Arc: What defines Tata Harrier is the platform, here\\'s how it\\'s different\". The Financial Express. 12 December 2020. Retrieved 12 January 2021.\\n\\n^ \"Tata confirms Harrier petrol\". Autocar India. Retrieved 12 January 2021.\\n\\n^ Dhingra, Mayank (21 September 2017). \"Tata Motors launches Nexon compact SUV at Rs 585,000\". Autocar Professional India. Retrieved 5 March 2021.\\n\\n^ \"Tata Nexon EV debuts with 300 km range\". autocarindia.com. Retrieved 8 March 2021.\\n\\n^ \"Tata Nexon EV Review\". news18. 17 January 2021. Retrieved 17 January 2021.\\n\\n^ \"India\\'s Tata Motors jumps on plans to split into two listed firms\". Reuters. 5 March 2024. Retrieved 6 March 2024.\\n\\n^ \"Explained: What Tata Motors\\' demerger plan means for the company and its shareholders\". Indian Express. 5 March 2024. Retrieved 6 March 2024.\\n\\n^ \"Tata Motors stock check: How does the demerger impact its fundamental and technical outlook for long-term\". Livemint. Retrieved 6 March 2024.\\n\\n\\nExternal links[edit]\\n\\n\\nOfficial website\\n\\n\\n\\n\\n\\n\\n\\n\\n'"
      ]
     },
     "execution_count": 12,
     "metadata": {},
     "output_type": "execute_result"
    }
   ],
   "source": [
    "data[0].page_content"
   ]
  },
  {
   "cell_type": "code",
   "execution_count": 13,
   "id": "194fbd47",
   "metadata": {},
   "outputs": [],
   "source": [
    "#Loading csv Files"
   ]
  },
  {
   "cell_type": "code",
   "execution_count": 14,
   "id": "83a5d0e3",
   "metadata": {},
   "outputs": [],
   "source": [
    "from langchain.document_loaders.csv_loader import CSVLoader"
   ]
  },
  {
   "cell_type": "code",
   "execution_count": 15,
   "id": "9d108f62",
   "metadata": {},
   "outputs": [],
   "source": [
    "loader=CSVLoader(\"movies.csv\")"
   ]
  },
  {
   "cell_type": "code",
   "execution_count": 16,
   "id": "3f4390e3",
   "metadata": {},
   "outputs": [],
   "source": [
    "csv_data=loader.load()"
   ]
  },
  {
   "cell_type": "code",
   "execution_count": 17,
   "id": "2a075579",
   "metadata": {},
   "outputs": [
    {
     "data": {
      "text/plain": [
       "[Document(metadata={'source': 'movies.csv', 'row': 0}, page_content='movie_id: 101\\ntitle: K.G.F: Chapter 2\\nindustry: Bollywood\\nrelease_year: 2022\\nimdb_rating: 8.4\\nstudio: Hombale Films\\nlanguage_id: 3\\nbudget: 1\\nrevenue: 12.5\\nunit: Billions\\ncurrency: INR'),\n",
       " Document(metadata={'source': 'movies.csv', 'row': 1}, page_content='movie_id: 102\\ntitle: Doctor Strange in the Multiverse of Madness\\nindustry: Hollywood\\nrelease_year: 2022\\nimdb_rating: 7\\nstudio: Marvel Studios\\nlanguage_id: 5\\nbudget: 200\\nrevenue: 954.8\\nunit: Millions\\ncurrency: USD'),\n",
       " Document(metadata={'source': 'movies.csv', 'row': 2}, page_content='movie_id: 103\\ntitle: Thor: The Dark World\\nindustry: Hollywood\\nrelease_year: 2013\\nimdb_rating: 6.8\\nstudio: Marvel Studios\\nlanguage_id: 5\\nbudget: 165\\nrevenue: 644.8\\nunit: Millions\\ncurrency: USD'),\n",
       " Document(metadata={'source': 'movies.csv', 'row': 3}, page_content='movie_id: 104\\ntitle: Thor: Ragnarok\\nindustry: Hollywood\\nrelease_year: 2017\\nimdb_rating: 7.9\\nstudio: Marvel Studios\\nlanguage_id: 5\\nbudget: 180\\nrevenue: 854\\nunit: Millions\\ncurrency: USD'),\n",
       " Document(metadata={'source': 'movies.csv', 'row': 4}, page_content='movie_id: 105\\ntitle: Thor: Love and Thunder\\nindustry: Hollywood\\nrelease_year: 2022\\nimdb_rating: 6.8\\nstudio: Marvel Studios\\nlanguage_id: 5\\nbudget: 250\\nrevenue: 670\\nunit: Millions\\ncurrency: USD'),\n",
       " Document(metadata={'source': 'movies.csv', 'row': 5}, page_content='movie_id: 106\\ntitle: Sholay\\nindustry: Bollywood\\nrelease_year: 1975\\nimdb_rating: 8.1\\nstudio: United Producers\\nlanguage_id: 1\\nbudget: Not Available\\nrevenue: Not Available\\nunit: Not Available\\ncurrency: Not Available'),\n",
       " Document(metadata={'source': 'movies.csv', 'row': 6}, page_content='movie_id: 107\\ntitle: Dilwale Dulhania Le Jayenge\\nindustry: Bollywood\\nrelease_year: 1995\\nimdb_rating: 8\\nstudio: Yash Raj Films\\nlanguage_id: 1\\nbudget: 400\\nrevenue: 2000\\nunit: Millions\\ncurrency: INR'),\n",
       " Document(metadata={'source': 'movies.csv', 'row': 7}, page_content='movie_id: 108\\ntitle: 3 Idiots\\nindustry: Bollywood\\nrelease_year: 2009\\nimdb_rating: 8.4\\nstudio: Vinod Chopra Films\\nlanguage_id: 1\\nbudget: 550\\nrevenue: 4000\\nunit: Millions\\ncurrency: INR'),\n",
       " Document(metadata={'source': 'movies.csv', 'row': 8}, page_content='movie_id: 109\\ntitle: Kabhi Khushi Kabhie Gham\\nindustry: Bollywood\\nrelease_year: 2001\\nimdb_rating: 7.4\\nstudio: Dharma Productions\\nlanguage_id: 1\\nbudget: 390\\nrevenue: 1360\\nunit: Millions\\ncurrency: INR')]"
      ]
     },
     "execution_count": 17,
     "metadata": {},
     "output_type": "execute_result"
    }
   ],
   "source": [
    "csv_data"
   ]
  },
  {
   "cell_type": "code",
   "execution_count": 18,
   "id": "eae5a3e3",
   "metadata": {},
   "outputs": [
    {
     "data": {
      "text/plain": [
       "9"
      ]
     },
     "execution_count": 18,
     "metadata": {},
     "output_type": "execute_result"
    }
   ],
   "source": [
    "len(csv_data)"
   ]
  },
  {
   "cell_type": "code",
   "execution_count": 19,
   "id": "bbfc79e9",
   "metadata": {},
   "outputs": [
    {
     "data": {
      "text/plain": [
       "Document(metadata={'source': 'movies.csv', 'row': 2}, page_content='movie_id: 103\\ntitle: Thor: The Dark World\\nindustry: Hollywood\\nrelease_year: 2013\\nimdb_rating: 6.8\\nstudio: Marvel Studios\\nlanguage_id: 5\\nbudget: 165\\nrevenue: 644.8\\nunit: Millions\\ncurrency: USD')"
      ]
     },
     "execution_count": 19,
     "metadata": {},
     "output_type": "execute_result"
    }
   ],
   "source": [
    "csv_data[2]"
   ]
  },
  {
   "cell_type": "code",
   "execution_count": 25,
   "id": "5c60ab80",
   "metadata": {},
   "outputs": [
    {
     "data": {
      "text/plain": [
       "{'source': 'K.G.F: Chapter 2', 'row': 0}"
      ]
     },
     "execution_count": 25,
     "metadata": {},
     "output_type": "execute_result"
    }
   ],
   "source": [
    "csv_data[0].metadata"
   ]
  },
  {
   "cell_type": "code",
   "execution_count": 27,
   "id": "b2e47134",
   "metadata": {},
   "outputs": [],
   "source": [
    "loader=CSVLoader(\"movies.csv\",source_column=\"title\")\n",
    "csv_data=loader.load()"
   ]
  },
  {
   "cell_type": "code",
   "execution_count": 28,
   "id": "1868c35d",
   "metadata": {},
   "outputs": [
    {
     "data": {
      "text/plain": [
       "[Document(metadata={'source': 'K.G.F: Chapter 2', 'row': 0}, page_content='movie_id: 101\\ntitle: K.G.F: Chapter 2\\nindustry: Bollywood\\nrelease_year: 2022\\nimdb_rating: 8.4\\nstudio: Hombale Films\\nlanguage_id: 3\\nbudget: 1\\nrevenue: 12.5\\nunit: Billions\\ncurrency: INR'),\n",
       " Document(metadata={'source': 'Doctor Strange in the Multiverse of Madness', 'row': 1}, page_content='movie_id: 102\\ntitle: Doctor Strange in the Multiverse of Madness\\nindustry: Hollywood\\nrelease_year: 2022\\nimdb_rating: 7\\nstudio: Marvel Studios\\nlanguage_id: 5\\nbudget: 200\\nrevenue: 954.8\\nunit: Millions\\ncurrency: USD'),\n",
       " Document(metadata={'source': 'Thor: The Dark World', 'row': 2}, page_content='movie_id: 103\\ntitle: Thor: The Dark World\\nindustry: Hollywood\\nrelease_year: 2013\\nimdb_rating: 6.8\\nstudio: Marvel Studios\\nlanguage_id: 5\\nbudget: 165\\nrevenue: 644.8\\nunit: Millions\\ncurrency: USD'),\n",
       " Document(metadata={'source': 'Thor: Ragnarok', 'row': 3}, page_content='movie_id: 104\\ntitle: Thor: Ragnarok\\nindustry: Hollywood\\nrelease_year: 2017\\nimdb_rating: 7.9\\nstudio: Marvel Studios\\nlanguage_id: 5\\nbudget: 180\\nrevenue: 854\\nunit: Millions\\ncurrency: USD'),\n",
       " Document(metadata={'source': 'Thor: Love and Thunder', 'row': 4}, page_content='movie_id: 105\\ntitle: Thor: Love and Thunder\\nindustry: Hollywood\\nrelease_year: 2022\\nimdb_rating: 6.8\\nstudio: Marvel Studios\\nlanguage_id: 5\\nbudget: 250\\nrevenue: 670\\nunit: Millions\\ncurrency: USD'),\n",
       " Document(metadata={'source': 'Sholay', 'row': 5}, page_content='movie_id: 106\\ntitle: Sholay\\nindustry: Bollywood\\nrelease_year: 1975\\nimdb_rating: 8.1\\nstudio: United Producers\\nlanguage_id: 1\\nbudget: Not Available\\nrevenue: Not Available\\nunit: Not Available\\ncurrency: Not Available'),\n",
       " Document(metadata={'source': 'Dilwale Dulhania Le Jayenge', 'row': 6}, page_content='movie_id: 107\\ntitle: Dilwale Dulhania Le Jayenge\\nindustry: Bollywood\\nrelease_year: 1995\\nimdb_rating: 8\\nstudio: Yash Raj Films\\nlanguage_id: 1\\nbudget: 400\\nrevenue: 2000\\nunit: Millions\\ncurrency: INR'),\n",
       " Document(metadata={'source': '3 Idiots', 'row': 7}, page_content='movie_id: 108\\ntitle: 3 Idiots\\nindustry: Bollywood\\nrelease_year: 2009\\nimdb_rating: 8.4\\nstudio: Vinod Chopra Films\\nlanguage_id: 1\\nbudget: 550\\nrevenue: 4000\\nunit: Millions\\ncurrency: INR'),\n",
       " Document(metadata={'source': 'Kabhi Khushi Kabhie Gham', 'row': 8}, page_content='movie_id: 109\\ntitle: Kabhi Khushi Kabhie Gham\\nindustry: Bollywood\\nrelease_year: 2001\\nimdb_rating: 7.4\\nstudio: Dharma Productions\\nlanguage_id: 1\\nbudget: 390\\nrevenue: 1360\\nunit: Millions\\ncurrency: INR')]"
      ]
     },
     "execution_count": 28,
     "metadata": {},
     "output_type": "execute_result"
    }
   ],
   "source": [
    "csv_data"
   ]
  },
  {
   "cell_type": "code",
   "execution_count": 29,
   "id": "06c93022",
   "metadata": {},
   "outputs": [
    {
     "data": {
      "text/plain": [
       "{'source': 'K.G.F: Chapter 2', 'row': 0}"
      ]
     },
     "execution_count": 29,
     "metadata": {},
     "output_type": "execute_result"
    }
   ],
   "source": [
    "csv_data[0].metadata"
   ]
  },
  {
   "cell_type": "code",
   "execution_count": 30,
   "id": "46587079",
   "metadata": {},
   "outputs": [],
   "source": [
    "#Loading data from URLs"
   ]
  },
  {
   "cell_type": "code",
   "execution_count": 2,
   "id": "6af9da65",
   "metadata": {},
   "outputs": [
    {
     "name": "stdout",
     "output_type": "stream",
     "text": [
      "Requirement already satisfied: langchain in c:\\users\\lokeshnaidu pasam\\anaconda\\lib\\site-packages (0.3.4)\n",
      "Requirement already satisfied: unstructured in c:\\users\\lokeshnaidu pasam\\anaconda\\lib\\site-packages (0.16.0)\n",
      "Requirement already satisfied: async-timeout<5.0.0,>=4.0.0 in c:\\users\\lokeshnaidu pasam\\anaconda\\lib\\site-packages (from langchain) (4.0.3)\n",
      "Requirement already satisfied: langchain-core<0.4.0,>=0.3.12 in c:\\users\\lokeshnaidu pasam\\anaconda\\lib\\site-packages (from langchain) (0.3.12)\n",
      "Requirement already satisfied: requests<3,>=2 in c:\\users\\lokeshnaidu pasam\\anaconda\\lib\\site-packages (from langchain) (2.28.1)\n",
      "Requirement already satisfied: SQLAlchemy<3,>=1.4 in c:\\users\\lokeshnaidu pasam\\anaconda\\lib\\site-packages (from langchain) (1.4.39)\n",
      "Requirement already satisfied: tenacity!=8.4.0,<10,>=8.1.0 in c:\\users\\lokeshnaidu pasam\\anaconda\\lib\\site-packages (from langchain) (9.0.0)\n",
      "Requirement already satisfied: pydantic<3.0.0,>=2.7.4 in c:\\users\\lokeshnaidu pasam\\anaconda\\lib\\site-packages (from langchain) (2.9.2)\n",
      "Requirement already satisfied: langsmith<0.2.0,>=0.1.17 in c:\\users\\lokeshnaidu pasam\\anaconda\\lib\\site-packages (from langchain) (0.1.136)\n",
      "Requirement already satisfied: numpy<2,>=1 in c:\\users\\lokeshnaidu pasam\\anaconda\\lib\\site-packages (from langchain) (1.23.5)\n",
      "Requirement already satisfied: aiohttp<4.0.0,>=3.8.3 in c:\\users\\lokeshnaidu pasam\\anaconda\\lib\\site-packages (from langchain) (3.10.10)\n",
      "Requirement already satisfied: langchain-text-splitters<0.4.0,>=0.3.0 in c:\\users\\lokeshnaidu pasam\\anaconda\\lib\\site-packages (from langchain) (0.3.0)\n",
      "Requirement already satisfied: PyYAML>=5.3 in c:\\users\\lokeshnaidu pasam\\anaconda\\lib\\site-packages (from langchain) (6.0)\n",
      "Requirement already satisfied: backoff in c:\\users\\lokeshnaidu pasam\\anaconda\\lib\\site-packages (from unstructured) (2.2.1)\n",
      "Requirement already satisfied: beautifulsoup4 in c:\\users\\lokeshnaidu pasam\\anaconda\\lib\\site-packages (from unstructured) (4.11.1)\n",
      "Requirement already satisfied: tqdm in c:\\users\\lokeshnaidu pasam\\anaconda\\lib\\site-packages (from unstructured) (4.64.1)\n",
      "Requirement already satisfied: rapidfuzz in c:\\users\\lokeshnaidu pasam\\anaconda\\lib\\site-packages (from unstructured) (3.10.0)\n",
      "Requirement already satisfied: tabulate in c:\\users\\lokeshnaidu pasam\\anaconda\\lib\\site-packages (from unstructured) (0.8.10)\n",
      "Requirement already satisfied: langdetect in c:\\users\\lokeshnaidu pasam\\anaconda\\lib\\site-packages (from unstructured) (1.0.9)\n",
      "Requirement already satisfied: python-oxmsg in c:\\users\\lokeshnaidu pasam\\anaconda\\lib\\site-packages (from unstructured) (0.0.1)\n",
      "Requirement already satisfied: lxml in c:\\users\\lokeshnaidu pasam\\anaconda\\lib\\site-packages (from unstructured) (4.9.1)\n",
      "Requirement already satisfied: python-iso639 in c:\\users\\lokeshnaidu pasam\\anaconda\\lib\\site-packages (from unstructured) (2024.10.22)\n",
      "Requirement already satisfied: typing-extensions in c:\\users\\lokeshnaidu pasam\\anaconda\\lib\\site-packages (from unstructured) (4.12.2)\n",
      "Requirement already satisfied: dataclasses-json in c:\\users\\lokeshnaidu pasam\\anaconda\\lib\\site-packages (from unstructured) (0.6.7)\n",
      "Requirement already satisfied: chardet in c:\\users\\lokeshnaidu pasam\\anaconda\\lib\\site-packages (from unstructured) (4.0.0)\n",
      "Requirement already satisfied: nltk in c:\\users\\lokeshnaidu pasam\\anaconda\\lib\\site-packages (from unstructured) (3.7)\n",
      "Requirement already satisfied: unstructured-client in c:\\users\\lokeshnaidu pasam\\anaconda\\lib\\site-packages (from unstructured) (0.26.1)\n",
      "Requirement already satisfied: psutil in c:\\users\\lokeshnaidu pasam\\anaconda\\lib\\site-packages (from unstructured) (5.9.0)\n",
      "Requirement already satisfied: emoji in c:\\users\\lokeshnaidu pasam\\anaconda\\lib\\site-packages (from unstructured) (2.14.0)\n",
      "Requirement already satisfied: filetype in c:\\users\\lokeshnaidu pasam\\anaconda\\lib\\site-packages (from unstructured) (1.2.0)\n",
      "Requirement already satisfied: wrapt in c:\\users\\lokeshnaidu pasam\\anaconda\\lib\\site-packages (from unstructured) (1.14.1)\n",
      "Requirement already satisfied: python-magic in c:\\users\\lokeshnaidu pasam\\anaconda\\lib\\site-packages (from unstructured) (0.4.27)\n",
      "Requirement already satisfied: attrs>=17.3.0 in c:\\users\\lokeshnaidu pasam\\anaconda\\lib\\site-packages (from aiohttp<4.0.0,>=3.8.3->langchain) (22.1.0)\n",
      "Requirement already satisfied: frozenlist>=1.1.1 in c:\\users\\lokeshnaidu pasam\\anaconda\\lib\\site-packages (from aiohttp<4.0.0,>=3.8.3->langchain) (1.4.1)\n",
      "Requirement already satisfied: aiohappyeyeballs>=2.3.0 in c:\\users\\lokeshnaidu pasam\\anaconda\\lib\\site-packages (from aiohttp<4.0.0,>=3.8.3->langchain) (2.4.3)\n",
      "Requirement already satisfied: multidict<7.0,>=4.5 in c:\\users\\lokeshnaidu pasam\\anaconda\\lib\\site-packages (from aiohttp<4.0.0,>=3.8.3->langchain) (6.1.0)\n",
      "Requirement already satisfied: yarl<2.0,>=1.12.0 in c:\\users\\lokeshnaidu pasam\\anaconda\\lib\\site-packages (from aiohttp<4.0.0,>=3.8.3->langchain) (1.16.0)\n",
      "Requirement already satisfied: aiosignal>=1.1.2 in c:\\users\\lokeshnaidu pasam\\anaconda\\lib\\site-packages (from aiohttp<4.0.0,>=3.8.3->langchain) (1.3.1)\n",
      "Requirement already satisfied: packaging<25,>=23.2 in c:\\users\\lokeshnaidu pasam\\anaconda\\lib\\site-packages (from langchain-core<0.4.0,>=0.3.12->langchain) (24.1)\n",
      "Requirement already satisfied: jsonpatch<2.0,>=1.33 in c:\\users\\lokeshnaidu pasam\\anaconda\\lib\\site-packages (from langchain-core<0.4.0,>=0.3.12->langchain) (1.33)\n",
      "Requirement already satisfied: orjson<4.0.0,>=3.9.14 in c:\\users\\lokeshnaidu pasam\\anaconda\\lib\\site-packages (from langsmith<0.2.0,>=0.1.17->langchain) (3.10.9)\n",
      "Requirement already satisfied: httpx<1,>=0.23.0 in c:\\users\\lokeshnaidu pasam\\anaconda\\lib\\site-packages (from langsmith<0.2.0,>=0.1.17->langchain) (0.27.2)\n",
      "Requirement already satisfied: requests-toolbelt<2.0.0,>=1.0.0 in c:\\users\\lokeshnaidu pasam\\anaconda\\lib\\site-packages (from langsmith<0.2.0,>=0.1.17->langchain) (1.0.0)\n",
      "Requirement already satisfied: annotated-types>=0.6.0 in c:\\users\\lokeshnaidu pasam\\anaconda\\lib\\site-packages (from pydantic<3.0.0,>=2.7.4->langchain) (0.7.0)\n",
      "Requirement already satisfied: pydantic-core==2.23.4 in c:\\users\\lokeshnaidu pasam\\anaconda\\lib\\site-packages (from pydantic<3.0.0,>=2.7.4->langchain) (2.23.4)\n",
      "Requirement already satisfied: urllib3<1.27,>=1.21.1 in c:\\users\\lokeshnaidu pasam\\anaconda\\lib\\site-packages (from requests<3,>=2->langchain) (1.26.14)\n",
      "Requirement already satisfied: charset-normalizer<3,>=2 in c:\\users\\lokeshnaidu pasam\\anaconda\\lib\\site-packages (from requests<3,>=2->langchain) (2.0.4)\n",
      "Requirement already satisfied: certifi>=2017.4.17 in c:\\users\\lokeshnaidu pasam\\anaconda\\lib\\site-packages (from requests<3,>=2->langchain) (2022.12.7)\n",
      "Requirement already satisfied: idna<4,>=2.5 in c:\\users\\lokeshnaidu pasam\\anaconda\\lib\\site-packages (from requests<3,>=2->langchain) (3.4)\n",
      "Requirement already satisfied: greenlet!=0.4.17 in c:\\users\\lokeshnaidu pasam\\anaconda\\lib\\site-packages (from SQLAlchemy<3,>=1.4->langchain) (2.0.1)\n",
      "Requirement already satisfied: soupsieve>1.2 in c:\\users\\lokeshnaidu pasam\\anaconda\\lib\\site-packages (from beautifulsoup4->unstructured) (2.3.2.post1)\n",
      "Requirement already satisfied: typing-inspect<1,>=0.4.0 in c:\\users\\lokeshnaidu pasam\\anaconda\\lib\\site-packages (from dataclasses-json->unstructured) (0.9.0)\n",
      "Requirement already satisfied: marshmallow<4.0.0,>=3.18.0 in c:\\users\\lokeshnaidu pasam\\anaconda\\lib\\site-packages (from dataclasses-json->unstructured) (3.23.0)\n",
      "Requirement already satisfied: six in c:\\users\\lokeshnaidu pasam\\anaconda\\lib\\site-packages (from langdetect->unstructured) (1.16.0)\n",
      "Requirement already satisfied: regex>=2021.8.3 in c:\\users\\lokeshnaidu pasam\\anaconda\\lib\\site-packages (from nltk->unstructured) (2022.7.9)\n",
      "Requirement already satisfied: click in c:\\users\\lokeshnaidu pasam\\anaconda\\lib\\site-packages (from nltk->unstructured) (8.0.4)\n",
      "Requirement already satisfied: joblib in c:\\users\\lokeshnaidu pasam\\anaconda\\lib\\site-packages (from nltk->unstructured) (1.1.1)\n",
      "Requirement already satisfied: olefile in c:\\users\\lokeshnaidu pasam\\anaconda\\lib\\site-packages (from python-oxmsg->unstructured) (0.47)\n",
      "Requirement already satisfied: colorama in c:\\users\\lokeshnaidu pasam\\anaconda\\lib\\site-packages (from tqdm->unstructured) (0.4.6)\n",
      "Requirement already satisfied: pypdf>=4.0 in c:\\users\\lokeshnaidu pasam\\anaconda\\lib\\site-packages (from unstructured-client->unstructured) (5.0.1)\n",
      "Requirement already satisfied: eval-type-backport<0.3.0,>=0.2.0 in c:\\users\\lokeshnaidu pasam\\anaconda\\lib\\site-packages (from unstructured-client->unstructured) (0.2.0)\n",
      "Requirement already satisfied: nest-asyncio>=1.6.0 in c:\\users\\lokeshnaidu pasam\\anaconda\\lib\\site-packages (from unstructured-client->unstructured) (1.6.0)\n",
      "Requirement already satisfied: python-dateutil==2.8.2 in c:\\users\\lokeshnaidu pasam\\anaconda\\lib\\site-packages (from unstructured-client->unstructured) (2.8.2)\n",
      "Requirement already satisfied: jsonpath-python<2.0.0,>=1.0.6 in c:\\users\\lokeshnaidu pasam\\anaconda\\lib\\site-packages (from unstructured-client->unstructured) (1.0.6)\n",
      "Requirement already satisfied: cryptography>=3.1 in c:\\users\\lokeshnaidu pasam\\anaconda\\lib\\site-packages (from unstructured-client->unstructured) (39.0.1)\n",
      "Requirement already satisfied: cffi>=1.12 in c:\\users\\lokeshnaidu pasam\\anaconda\\lib\\site-packages (from cryptography>=3.1->unstructured-client->unstructured) (1.15.1)\n",
      "Requirement already satisfied: httpcore==1.* in c:\\users\\lokeshnaidu pasam\\anaconda\\lib\\site-packages (from httpx<1,>=0.23.0->langsmith<0.2.0,>=0.1.17->langchain) (1.0.6)\n",
      "Requirement already satisfied: anyio in c:\\users\\lokeshnaidu pasam\\anaconda\\lib\\site-packages (from httpx<1,>=0.23.0->langsmith<0.2.0,>=0.1.17->langchain) (3.5.0)\n",
      "Requirement already satisfied: sniffio in c:\\users\\lokeshnaidu pasam\\anaconda\\lib\\site-packages (from httpx<1,>=0.23.0->langsmith<0.2.0,>=0.1.17->langchain) (1.2.0)\n",
      "Requirement already satisfied: h11<0.15,>=0.13 in c:\\users\\lokeshnaidu pasam\\anaconda\\lib\\site-packages (from httpcore==1.*->httpx<1,>=0.23.0->langsmith<0.2.0,>=0.1.17->langchain) (0.14.0)\n",
      "Requirement already satisfied: jsonpointer>=1.9 in c:\\users\\lokeshnaidu pasam\\anaconda\\lib\\site-packages (from jsonpatch<2.0,>=1.33->langchain-core<0.4.0,>=0.3.12->langchain) (2.1)\n",
      "Requirement already satisfied: mypy-extensions>=0.3.0 in c:\\users\\lokeshnaidu pasam\\anaconda\\lib\\site-packages (from typing-inspect<1,>=0.4.0->dataclasses-json->unstructured) (0.4.3)\n",
      "Requirement already satisfied: propcache>=0.2.0 in c:\\users\\lokeshnaidu pasam\\anaconda\\lib\\site-packages (from yarl<2.0,>=1.12.0->aiohttp<4.0.0,>=3.8.3->langchain) (0.2.0)\n",
      "Requirement already satisfied: pycparser in c:\\users\\lokeshnaidu pasam\\anaconda\\lib\\site-packages (from cffi>=1.12->cryptography>=3.1->unstructured-client->unstructured) (2.21)\n",
      "Note: you may need to restart the kernel to use updated packages.\n"
     ]
    }
   ],
   "source": [
    "pip install langchain unstructured"
   ]
  },
  {
   "cell_type": "code",
   "execution_count": 3,
   "id": "8ab36066",
   "metadata": {},
   "outputs": [],
   "source": [
    "from langchain.document_loaders import UnstructuredURLLoader\n"
   ]
  },
  {
   "cell_type": "code",
   "execution_count": 6,
   "id": "16359416",
   "metadata": {},
   "outputs": [
    {
     "name": "stdout",
     "output_type": "stream",
     "text": [
      "Requirement already satisfied: nltk in c:\\users\\lokeshnaidu pasam\\anaconda\\lib\\site-packages (3.7)\n",
      "Requirement already satisfied: tqdm in c:\\users\\lokeshnaidu pasam\\anaconda\\lib\\site-packages (from nltk) (4.64.1)\n",
      "Requirement already satisfied: joblib in c:\\users\\lokeshnaidu pasam\\anaconda\\lib\\site-packages (from nltk) (1.1.1)\n",
      "Requirement already satisfied: click in c:\\users\\lokeshnaidu pasam\\anaconda\\lib\\site-packages (from nltk) (8.0.4)\n",
      "Requirement already satisfied: regex>=2021.8.3 in c:\\users\\lokeshnaidu pasam\\anaconda\\lib\\site-packages (from nltk) (2022.7.9)\n",
      "Requirement already satisfied: colorama in c:\\users\\lokeshnaidu pasam\\anaconda\\lib\\site-packages (from click->nltk) (0.4.6)\n",
      "Note: you may need to restart the kernel to use updated packages.\n"
     ]
    }
   ],
   "source": [
    "pip install nltk"
   ]
  },
  {
   "cell_type": "code",
   "execution_count": 7,
   "id": "00075f2e",
   "metadata": {},
   "outputs": [
    {
     "name": "stderr",
     "output_type": "stream",
     "text": [
      "[nltk_data] Downloading package punkt to C:\\Users\\LokeshNaidu\n",
      "[nltk_data]     Pasam\\AppData\\Roaming\\nltk_data...\n",
      "[nltk_data]   Package punkt is already up-to-date!\n"
     ]
    },
    {
     "data": {
      "text/plain": [
       "True"
      ]
     },
     "execution_count": 7,
     "metadata": {},
     "output_type": "execute_result"
    }
   ],
   "source": [
    "import nltk\n",
    "nltk.download('punkt')"
   ]
  },
  {
   "cell_type": "code",
   "execution_count": 10,
   "id": "15e3dbb3",
   "metadata": {},
   "outputs": [],
   "source": [
    "import nltk\n",
    "nltk.data.path.append('C:/nltk_data/')\n"
   ]
  },
  {
   "cell_type": "code",
   "execution_count": 11,
   "id": "9107d330",
   "metadata": {},
   "outputs": [
    {
     "name": "stderr",
     "output_type": "stream",
     "text": [
      "Error fetching or processing https://www.moneycontrol.com/news/business/stocks/accumulate-tata-motors-target-of-rs-1075-prabhudas-lilladher-12538061.html, exception: No such file or directory: 'C:\\\\Users\\\\LokeshNaidu Pasam\\\\AppData\\\\Roaming\\\\nltk_data\\\\tokenizers\\\\punkt\\\\PY3_tab'\n",
      "Error fetching or processing https://www.moneycontrol.com/news/business/stocks/buy-tata-motors-target-of-rs-1188-sharekhan-12411611.html, exception: No such file or directory: 'C:\\\\Users\\\\LokeshNaidu Pasam\\\\AppData\\\\Roaming\\\\nltk_data\\\\tokenizers\\\\punkt\\\\PY3_tab'\n",
      "Error fetching or processing https://www.moneycontrol.com/news/business/stocks/reduce-tata-motors-target-of-rs-901-icici-securities-12411521.html, exception: No such file or directory: 'C:\\\\Users\\\\LokeshNaidu Pasam\\\\AppData\\\\Roaming\\\\nltk_data\\\\tokenizers\\\\punkt\\\\PY3_tab'\n"
     ]
    },
    {
     "name": "stdout",
     "output_type": "stream",
     "text": [
      "[]\n"
     ]
    }
   ],
   "source": [
    "from langchain.document_loaders import UnstructuredURLLoader\n",
    "\n",
    "loader = UnstructuredURLLoader(\n",
    "    urls= [\n",
    "        \"https://www.moneycontrol.com/news/business/stocks/accumulate-tata-motors-target-of-rs-1075-prabhudas-lilladher-12538061.html\",\n",
    "        \"https://www.moneycontrol.com/news/business/stocks/buy-tata-motors-target-of-rs-1188-sharekhan-12411611.html\",\n",
    "        \"https://www.moneycontrol.com/news/business/stocks/reduce-tata-motors-target-of-rs-901-icici-securities-12411521.html\"\n",
    "    ]\n",
    ")\n",
    "\n",
    "data = loader.load()\n",
    "print(data)\n"
   ]
  },
  {
   "cell_type": "code",
   "execution_count": null,
   "id": "aa80787a",
   "metadata": {},
   "outputs": [],
   "source": [
    "#Text splitting\n"
   ]
  },
  {
   "cell_type": "code",
   "execution_count": 1,
   "id": "5f4c1adf",
   "metadata": {},
   "outputs": [],
   "source": [
    "text=\"Tata Motors\\n\\n\\n\\nTata Motors LimitedHeadquarters in MumbaiFormerlyTata Engineering and Locomotive Company Ltd. (TELCO)Company typePublicTraded asBSE:Â\\xa0500570NSE:Â\\xa0TATAMOTORSBSE SENSEX constituentNSE NIFTY 50 constituentISININ9155A01020IndustryAutomotiveFounded1945; 79Â\\xa0years agoFounderJ. R. D. TataHeadquartersMumbai, Maharashtra, India[1]Area servedWorldwideKey peopleNatarajan Chandrasekaran  (Chairman)P. B. Balaji (CFO)[2]ProductsAutomobilesLuxury vehiclesCommercial vehiclesAutomotive partsPickup trucksSUVsProduction output1.1 million (2021)ServicesAutomotive financeVehicle leasingVehicle serviceRevenue â‚¹443,877 crore (US$53Â\\xa0billion) (2024)[3]Operating income â‚¹28,232 crore (US$3.4Â\\xa0billion) (2024)[3]Net income â‚¹31,806 crore (US$3.8Â\\xa0billion) (2024)[3]Total assets â‚¹370,663 crore (US$44Â\\xa0billion) (2024)[4]Total equity â‚¹93,093 crore (US$11Â\\xa0billion) (2024)[4]Number of employees91,811 (2024)[5]ParentTata GroupSubsidiaries\\nTata Motors Cars\\nJaguar Land Rover\\nTata Daewoo\\nTata Marcopolo\\nTata Technologies\\nTata Hispano\\nTata Hitachi Construction Machinery\\nRatingS&P BB/Stable[6]Websitetatamotors.com\\nTata Motors Limited is an Indian multinational automotive company, headquartered in Mumbai and part of the Tata Group. The company produces cars, trucks, vans, and buses.[7]\\nSubsidiaries include British Jaguar Land Rover and South Korean Tata Daewoo. Tata Motors has joint ventures with Hitachi (Tata Hitachi Construction Machinery) and Stellantis, which makes vehicle parts for Fiat Chrysler and Tata-branded vehicles.\\nTata Motors has auto manufacturing and vehicle plants in Jamshedpur, Pantnagar, Lucknow, Sanand, Dharwad, and Pune in India, as well as in Argentina, South Africa, the United Kingdom, and Thailand. It has research and development centers in Pune, Jamshedpur, Lucknow, Dharwad, India and South Korea, the United Kingdom, and Spain. Tata Motors is listed on the BSE and NSE, and is a constituent of the BSE SENSEX and NIFTY 50 benchmark indices. The company is ranked 265th on the Fortune Global 500 list of the world\\'s biggest corporations as of 2019.[8]\\nOn 17 January 2017, Natarajan Chandrasekaran was appointed chairman of the company Tata Group. Tata Motors increased its UV market share to over 8% in FY2019.[9]\\n\\n\\nHistory[edit]\\nTata Sierra (1991-2000)\\nTata Sumo (1994â€“2019)\\nTata Motors was founded in 1945, as a locomotive manufacturer. Tata Group entered the commercial vehicle sector in 1954 after forming a joint venture with Daimler-Benz of Germany in which Tata developed a manufacturing facility in Jamshedpur for Daimler lorries.[10] By November 1954 Tata and Daimler manufactured their first goods carrier chassis at their Jamshedpur plant with 90-100Â\\xa0hp and capacity of 3-5 tons.[11] After years of dominating the commercial vehicle market in India, Tata Motors entered the passenger vehicle market in 1991 by launching the Tata Sierra, a sport utility vehicle based on the Tata Mobile platform. Tata subsequently launched the Tata Estate (1992; a station wagon design based on the earlier Tata Mobile), the Tata Sumo (1994, a 5-door SUV) and the Tata Safari (1998).[citation needed]\\n\\nTata Indica (first generation)\\nTata launched the Indica in 1998. A newer version of the car, named Indica V2, later appeared. Tata Motors also exported cars to South Africa.[12]\\nIn the 2000s, Tata Motors made a series of acquisitions and partnerships, acquiring Daewoo\\'s South Korea-based truck manufacturing unit,[13] a joint venture with the Brazil-based Marcopolo, Tata Marcopolo Bus,[14] Jaguar Land Rover.,[15][16][17][18] Hispano Carrocera,[19] and an 80% stake in the Italian design and engineering company Trilix.[20]\\nOn 12 October 2021, private equity firm TPG invested $1 billion in Tata Motors\\' electric vehicle subsidiary.[21]\\n\\nOperations[edit]\\nTata Motors has vehicle assembly operations in India, the United Kingdom, South Korea, Thailand, Spain, and South Africa. It plans to establish plants in Turkey, Indonesia, and Eastern Europe.\\n\\nTata Motors Cars[edit]\\n\\nTata Motors Cars is a division of Tata Motors which produces passenger cars under the Tata Motors hood\""
   ]
  },
  {
   "cell_type": "code",
   "execution_count": 2,
   "id": "63723cd9",
   "metadata": {},
   "outputs": [
    {
     "data": {
      "text/plain": [
       "'Tata Motors\\n\\n\\n\\nTata Motors LimitedHeadquarters in MumbaiFormerlyTata Engineering and Locomotive Comp'"
      ]
     },
     "execution_count": 2,
     "metadata": {},
     "output_type": "execute_result"
    }
   ],
   "source": [
    "text[0:100]"
   ]
  },
  {
   "cell_type": "markdown",
   "id": "63998ae4",
   "metadata": {},
   "source": [
    "charcterTextSplitter\n"
   ]
  },
  {
   "cell_type": "code",
   "execution_count": 4,
   "id": "13ef8cf8",
   "metadata": {},
   "outputs": [],
   "source": [
    "from langchain.text_splitter import CharacterTextSplitter"
   ]
  },
  {
   "cell_type": "code",
   "execution_count": 6,
   "id": "57327f0a",
   "metadata": {},
   "outputs": [],
   "source": [
    "splitter = CharacterTextSplitter(\n",
    "    separator=\"\\n\",  \n",
    "    chunk_size=200, \n",
    "    chunk_overlap=5\n",
    ")\n"
   ]
  },
  {
   "cell_type": "code",
   "execution_count": 7,
   "id": "6efce68f",
   "metadata": {},
   "outputs": [
    {
     "name": "stderr",
     "output_type": "stream",
     "text": [
      "Created a chunk of size 926, which is longer than the specified 200\n",
      "Created a chunk of size 245, which is longer than the specified 200\n",
      "Created a chunk of size 553, which is longer than the specified 200\n",
      "Created a chunk of size 819, which is longer than the specified 200\n",
      "Created a chunk of size 347, which is longer than the specified 200\n"
     ]
    }
   ],
   "source": [
    "chunks=splitter.split_text(text)"
   ]
  },
  {
   "cell_type": "code",
   "execution_count": 8,
   "id": "597b109a",
   "metadata": {},
   "outputs": [
    {
     "data": {
      "text/plain": [
       "14"
      ]
     },
     "execution_count": 8,
     "metadata": {},
     "output_type": "execute_result"
    }
   ],
   "source": [
    "len(chunks)"
   ]
  },
  {
   "cell_type": "code",
   "execution_count": 9,
   "id": "cf3dc418",
   "metadata": {},
   "outputs": [
    {
     "name": "stdout",
     "output_type": "stream",
     "text": [
      "11\n",
      "926\n",
      "172\n",
      "173\n",
      "245\n",
      "553\n",
      "199\n",
      "23\n",
      "819\n",
      "177\n",
      "347\n",
      "129\n",
      "192\n",
      "125\n"
     ]
    }
   ],
   "source": [
    "for i in chunks:\n",
    "    print(len(i))"
   ]
  },
  {
   "cell_type": "markdown",
   "id": "fb305e9f",
   "metadata": {},
   "source": [
    "Recursive Text Splitter"
   ]
  },
  {
   "cell_type": "code",
   "execution_count": 19,
   "id": "0b4b5afe",
   "metadata": {},
   "outputs": [],
   "source": [
    "from langchain.text_splitter import RecursiveCharacterTextSplitter"
   ]
  },
  {
   "cell_type": "code",
   "execution_count": 24,
   "id": "e577567d",
   "metadata": {},
   "outputs": [],
   "source": [
    "splitter = RecursiveCharacterTextSplitter(\n",
    "    separators=[\"\\n\\n\", \"\\n\", \" \"],  # Use 'separators' instead of 'separator'\n",
    "    chunk_size=200, \n",
    "    chunk_overlap=0,\n",
    "    length_function=len\n",
    ")\n"
   ]
  },
  {
   "cell_type": "code",
   "execution_count": 25,
   "id": "26d445bb",
   "metadata": {},
   "outputs": [
    {
     "name": "stdout",
     "output_type": "stream",
     "text": [
      "11\n",
      "926\n",
      "172\n",
      "173\n",
      "245\n",
      "553\n",
      "199\n",
      "23\n",
      "819\n",
      "177\n",
      "347\n",
      "129\n",
      "192\n",
      "125\n"
     ]
    }
   ],
   "source": [
    "for i in chunks:\n",
    "    print(len(i))"
   ]
  },
  {
   "cell_type": "code",
   "execution_count": null,
   "id": "d0fe5375",
   "metadata": {},
   "outputs": [],
   "source": []
  }
 ],
 "metadata": {
  "kernelspec": {
   "display_name": "Python 3 (ipykernel)",
   "language": "python",
   "name": "python3"
  },
  "language_info": {
   "codemirror_mode": {
    "name": "ipython",
    "version": 3
   },
   "file_extension": ".py",
   "mimetype": "text/x-python",
   "name": "python",
   "nbconvert_exporter": "python",
   "pygments_lexer": "ipython3",
   "version": "3.10.9"
  }
 },
 "nbformat": 4,
 "nbformat_minor": 5
}
